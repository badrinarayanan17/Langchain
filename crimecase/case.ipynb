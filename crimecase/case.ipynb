{
 "cells": [
  {
   "cell_type": "markdown",
   "metadata": {},
   "source": [
    "## Performing summarization and Q&A for a crime case"
   ]
  },
  {
   "cell_type": "code",
   "execution_count": 2,
   "metadata": {},
   "outputs": [],
   "source": [
    "from langchain_groq import ChatGroq # Inferencing\n",
    "from langchain.chains.summarize import load_summarize_chain # For summarization\n",
    "from langchain.chains.question_answering import load_qa_chain # For question answering\n",
    "from langchain.document_loaders import TextLoader # For loading the text file\n",
    "from dotenv import load_dotenv # For detecting the environment"
   ]
  },
  {
   "cell_type": "markdown",
   "metadata": {},
   "source": [
    "Loading the text file"
   ]
  },
  {
   "cell_type": "code",
   "execution_count": 4,
   "metadata": {},
   "outputs": [],
   "source": [
    "data = TextLoader('R:\\Projects\\Langchain\\crimecase\\CrimeCase.txt')"
   ]
  },
  {
   "cell_type": "code",
   "execution_count": 5,
   "metadata": {},
   "outputs": [],
   "source": [
    "textdata = data.load() # Loading the data"
   ]
  },
  {
   "cell_type": "code",
   "execution_count": 6,
   "metadata": {},
   "outputs": [
    {
     "data": {
      "text/plain": [
       "[Document(page_content=\"ï»¿Case Title: State of Maharashtra v. Rajesh Kumar\\n\\n\\nCase Number: 2021/CR/5678\\n\\n\\nCourt: High Court of Bombay\\n\\n\\nDate: March 10, 2023\\n\\n\\nJudge: Honorable Justice R.K. Desai\\n\\n\\nParties:\\n\\n\\nPlaintiff: The State of Maharashtra\\nDefendant: Rajesh Kumar\\nCharges:\\n\\n\\nSection 302 - Indian Penal Code (IPC) - Murder\\nSection 397 - IPC - Robbery, or dacoity, with attempt to cause death or grievous hurt\\nSection 411 - IPC - Dishonestly receiving stolen property\\nSummary of Facts:\\nOn the night of October 15, 2021, the defendant, Rajesh Kumar, along with two accomplices, forcibly entered the residence of the victim, Mr. Shyam Lal, located at 45, Andheri East, Mumbai. The intruders overpowered the victim, binding him and his wife, Mrs. Kamla Lal, with ropes. They then proceeded to loot the house, taking cash, jewelry, and other valuable items.\\n\\n\\nDuring the course of the robbery, an altercation occurred between the defendant and Mr. Shyam Lal. The defendant, in a fit of rage, struck the victim multiple times with a blunt object, resulting in Mr. Lal's death. The assailants then fled the scene with the stolen property.\\n\\n\\nThe incident was reported by Mrs. Kamla Lal, who managed to untie herself and call the police. The police arrived promptly and initiated an investigation. Based on eyewitness accounts and forensic evidence, Rajesh Kumar was apprehended within a week and found in possession of several items identified as stolen from the Lal residence.\\n\\n\\nEvidence Presented:\\n\\n\\nTestimony of Mrs. Kamla Lal: The victimâ€™s wife provided a detailed account of the events, identifying Rajesh Kumar as one of the assailants.\\nForensic Evidence: Bloodstains matching the victimâ€™s blood type were found on the clothes of the defendant.\\nCCTV Footage: Surveillance cameras from a neighboring property captured the entry and exit of the accused.\\nRecovered Stolen Items: Jewelry and cash stolen from the Lal residence were recovered from the defendantâ€™s hideout.\\nDefense Argument:\\nThe defense argued that Rajesh Kumar was not present at the crime scene and was wrongfully accused. They suggested that the evidence was circumstantial and that the defendant was a victim of mistaken identity. The defense also highlighted the lack of direct eyewitnesses other than the victim's wife.\\n\\n\\nProsecution Argument:\\nThe prosecution relied on the strong testimonial evidence of Mrs. Kamla Lal, supported by forensic evidence and CCTV footage. They argued that the recovered stolen items found in the possession of the defendant conclusively linked him to the crime. The prosecution emphasized the brutality of the murder and the overwhelming evidence of the defendant's guilt.\\n\\n\\nVerdict:\\nThe court found Rajesh Kumar guilty on all charges, including murder, robbery, and possession of stolen property.\\n\\n\\nSentencing:\\nRajesh Kumar was sentenced to life imprisonment for the murder charge under Section 302 of the IPC. Additionally, he received ten years of rigorous imprisonment for the robbery charge under Section 397 of the IPC and five years for receiving stolen property under Section 411 of the IPC, with sentences to run concurrently.\", metadata={'source': 'R:\\\\Projects\\\\Langchain\\\\crimecase\\\\CrimeCase.txt'})]"
      ]
     },
     "execution_count": 6,
     "metadata": {},
     "output_type": "execute_result"
    }
   ],
   "source": [
    "textdata"
   ]
  },
  {
   "cell_type": "code",
   "execution_count": 7,
   "metadata": {},
   "outputs": [
    {
     "data": {
      "text/plain": [
       "1"
      ]
     },
     "execution_count": 7,
     "metadata": {},
     "output_type": "execute_result"
    }
   ],
   "source": [
    "len(textdata)"
   ]
  },
  {
   "cell_type": "markdown",
   "metadata": {},
   "source": [
    "Instancing the model"
   ]
  },
  {
   "cell_type": "code",
   "execution_count": 8,
   "metadata": {},
   "outputs": [],
   "source": [
    "groqllm = ChatGroq(model='llama3-8b-8192',temperature=1) # llama3 model with temperature set as 1"
   ]
  },
  {
   "cell_type": "code",
   "execution_count": 11,
   "metadata": {},
   "outputs": [],
   "source": [
    "chain = load_summarize_chain(groqllm,chain_type='map_reduce',verbose=True) # chain type as map_reduce"
   ]
  },
  {
   "cell_type": "code",
   "execution_count": 12,
   "metadata": {},
   "outputs": [
    {
     "name": "stdout",
     "output_type": "stream",
     "text": [
      "\n",
      "\n",
      "\u001b[1m> Entering new MapReduceDocumentsChain chain...\u001b[0m\n",
      "\n",
      "\n",
      "\u001b[1m> Entering new LLMChain chain...\u001b[0m\n",
      "Prompt after formatting:\n",
      "\u001b[32;1m\u001b[1;3mWrite a concise summary of the following:\n",
      "\n",
      "\n",
      "\"ï»¿Case Title: State of Maharashtra v. Rajesh Kumar\n",
      "\n",
      "\n",
      "Case Number: 2021/CR/5678\n",
      "\n",
      "\n",
      "Court: High Court of Bombay\n",
      "\n",
      "\n",
      "Date: March 10, 2023\n",
      "\n",
      "\n",
      "Judge: Honorable Justice R.K. Desai\n",
      "\n",
      "\n",
      "Parties:\n",
      "\n",
      "\n",
      "Plaintiff: The State of Maharashtra\n",
      "Defendant: Rajesh Kumar\n",
      "Charges:\n",
      "\n",
      "\n",
      "Section 302 - Indian Penal Code (IPC) - Murder\n",
      "Section 397 - IPC - Robbery, or dacoity, with attempt to cause death or grievous hurt\n",
      "Section 411 - IPC - Dishonestly receiving stolen property\n",
      "Summary of Facts:\n",
      "On the night of October 15, 2021, the defendant, Rajesh Kumar, along with two accomplices, forcibly entered the residence of the victim, Mr. Shyam Lal, located at 45, Andheri East, Mumbai. The intruders overpowered the victim, binding him and his wife, Mrs. Kamla Lal, with ropes. They then proceeded to loot the house, taking cash, jewelry, and other valuable items.\n",
      "\n",
      "\n",
      "During the course of the robbery, an altercation occurred between the defendant and Mr. Shyam Lal. The defendant, in a fit of rage, struck the victim multiple times with a blunt object, resulting in Mr. Lal's death. The assailants then fled the scene with the stolen property.\n",
      "\n",
      "\n",
      "The incident was reported by Mrs. Kamla Lal, who managed to untie herself and call the police. The police arrived promptly and initiated an investigation. Based on eyewitness accounts and forensic evidence, Rajesh Kumar was apprehended within a week and found in possession of several items identified as stolen from the Lal residence.\n",
      "\n",
      "\n",
      "Evidence Presented:\n",
      "\n",
      "\n",
      "Testimony of Mrs. Kamla Lal: The victimâ€™s wife provided a detailed account of the events, identifying Rajesh Kumar as one of the assailants.\n",
      "Forensic Evidence: Bloodstains matching the victimâ€™s blood type were found on the clothes of the defendant.\n",
      "CCTV Footage: Surveillance cameras from a neighboring property captured the entry and exit of the accused.\n",
      "Recovered Stolen Items: Jewelry and cash stolen from the Lal residence were recovered from the defendantâ€™s hideout.\n",
      "Defense Argument:\n",
      "The defense argued that Rajesh Kumar was not present at the crime scene and was wrongfully accused. They suggested that the evidence was circumstantial and that the defendant was a victim of mistaken identity. The defense also highlighted the lack of direct eyewitnesses other than the victim's wife.\n",
      "\n",
      "\n",
      "Prosecution Argument:\n",
      "The prosecution relied on the strong testimonial evidence of Mrs. Kamla Lal, supported by forensic evidence and CCTV footage. They argued that the recovered stolen items found in the possession of the defendant conclusively linked him to the crime. The prosecution emphasized the brutality of the murder and the overwhelming evidence of the defendant's guilt.\n",
      "\n",
      "\n",
      "Verdict:\n",
      "The court found Rajesh Kumar guilty on all charges, including murder, robbery, and possession of stolen property.\n",
      "\n",
      "\n",
      "Sentencing:\n",
      "Rajesh Kumar was sentenced to life imprisonment for the murder charge under Section 302 of the IPC. Additionally, he received ten years of rigorous imprisonment for the robbery charge under Section 397 of the IPC and five years for receiving stolen property under Section 411 of the IPC, with sentences to run concurrently.\"\n",
      "\n",
      "\n",
      "CONCISE SUMMARY:\u001b[0m\n",
      "\n",
      "\u001b[1m> Finished chain.\u001b[0m\n"
     ]
    },
    {
     "name": "stderr",
     "output_type": "stream",
     "text": [
      "c:\\Users\\USER\\AppData\\Local\\Programs\\Python\\Python39\\lib\\site-packages\\tqdm\\auto.py:21: TqdmWarning: IProgress not found. Please update jupyter and ipywidgets. See https://ipywidgets.readthedocs.io/en/stable/user_install.html\n",
      "  from .autonotebook import tqdm as notebook_tqdm\n"
     ]
    },
    {
     "name": "stdout",
     "output_type": "stream",
     "text": [
      "\n",
      "\n",
      "\u001b[1m> Entering new LLMChain chain...\u001b[0m\n",
      "Prompt after formatting:\n",
      "\u001b[32;1m\u001b[1;3mWrite a concise summary of the following:\n",
      "\n",
      "\n",
      "\"Here is a concise summary of the case:\n",
      "\n",
      "Rajesh Kumar was convicted of murder, robbery, and receiving stolen property by the High Court of Bombay. On October 15, 2021, Kumar and two accomplices broke into the home of Shyam Lal in Mumbai, tied up the couple, and stole valuables. During the robbery, Kumar and the victim got into an altercation, resulting in the victim's death. The prosecution presented testimonial evidence from the victim's wife, forensic evidence, CCTV footage, and recovered stolen items to prove Kumar's guilt. The defense argued that Kumar was mistaken for the perpetrator, but the court found Kumar guilty on all charges and sentenced him to life imprisonment for murder, rigorous imprisonment for robbery, and five years for receiving stolen property, with sentences to run concurrently.\"\n",
      "\n",
      "\n",
      "CONCISE SUMMARY:\u001b[0m\n",
      "\n",
      "\u001b[1m> Finished chain.\u001b[0m\n",
      "\n",
      "\u001b[1m> Finished chain.\u001b[0m\n"
     ]
    },
    {
     "data": {
      "text/plain": [
       "'Here is a concise summary of the case:\\n\\nRajesh Kumar was convicted of murder, robbery, and receiving stolen property for breaking into a home, tying up the couple, killing the victim, and stealing valuables.'"
      ]
     },
     "execution_count": 12,
     "metadata": {},
     "output_type": "execute_result"
    }
   ],
   "source": [
    "chain.run(textdata)"
   ]
  },
  {
   "cell_type": "markdown",
   "metadata": {},
   "source": [
    "It Gave a one line summary for the crime case."
   ]
  },
  {
   "cell_type": "markdown",
   "metadata": {},
   "source": [
    "Querying the file"
   ]
  },
  {
   "cell_type": "code",
   "execution_count": 16,
   "metadata": {},
   "outputs": [],
   "source": [
    "query = \"What was this case about\""
   ]
  },
  {
   "cell_type": "code",
   "execution_count": 17,
   "metadata": {},
   "outputs": [],
   "source": [
    "queschain = load_qa_chain(groqllm,chain_type='stuff',verbose=True) # loading the chain"
   ]
  },
  {
   "cell_type": "code",
   "execution_count": 18,
   "metadata": {},
   "outputs": [
    {
     "name": "stdout",
     "output_type": "stream",
     "text": [
      "\n",
      "\n",
      "\u001b[1m> Entering new StuffDocumentsChain chain...\u001b[0m\n",
      "\n",
      "\n",
      "\u001b[1m> Entering new LLMChain chain...\u001b[0m\n",
      "Prompt after formatting:\n",
      "\u001b[32;1m\u001b[1;3mSystem: Use the following pieces of context to answer the user's question. \n",
      "If you don't know the answer, just say that you don't know, don't try to make up an answer.\n",
      "----------------\n",
      "ï»¿Case Title: State of Maharashtra v. Rajesh Kumar\n",
      "\n",
      "\n",
      "Case Number: 2021/CR/5678\n",
      "\n",
      "\n",
      "Court: High Court of Bombay\n",
      "\n",
      "\n",
      "Date: March 10, 2023\n",
      "\n",
      "\n",
      "Judge: Honorable Justice R.K. Desai\n",
      "\n",
      "\n",
      "Parties:\n",
      "\n",
      "\n",
      "Plaintiff: The State of Maharashtra\n",
      "Defendant: Rajesh Kumar\n",
      "Charges:\n",
      "\n",
      "\n",
      "Section 302 - Indian Penal Code (IPC) - Murder\n",
      "Section 397 - IPC - Robbery, or dacoity, with attempt to cause death or grievous hurt\n",
      "Section 411 - IPC - Dishonestly receiving stolen property\n",
      "Summary of Facts:\n",
      "On the night of October 15, 2021, the defendant, Rajesh Kumar, along with two accomplices, forcibly entered the residence of the victim, Mr. Shyam Lal, located at 45, Andheri East, Mumbai. The intruders overpowered the victim, binding him and his wife, Mrs. Kamla Lal, with ropes. They then proceeded to loot the house, taking cash, jewelry, and other valuable items.\n",
      "\n",
      "\n",
      "During the course of the robbery, an altercation occurred between the defendant and Mr. Shyam Lal. The defendant, in a fit of rage, struck the victim multiple times with a blunt object, resulting in Mr. Lal's death. The assailants then fled the scene with the stolen property.\n",
      "\n",
      "\n",
      "The incident was reported by Mrs. Kamla Lal, who managed to untie herself and call the police. The police arrived promptly and initiated an investigation. Based on eyewitness accounts and forensic evidence, Rajesh Kumar was apprehended within a week and found in possession of several items identified as stolen from the Lal residence.\n",
      "\n",
      "\n",
      "Evidence Presented:\n",
      "\n",
      "\n",
      "Testimony of Mrs. Kamla Lal: The victimâ€™s wife provided a detailed account of the events, identifying Rajesh Kumar as one of the assailants.\n",
      "Forensic Evidence: Bloodstains matching the victimâ€™s blood type were found on the clothes of the defendant.\n",
      "CCTV Footage: Surveillance cameras from a neighboring property captured the entry and exit of the accused.\n",
      "Recovered Stolen Items: Jewelry and cash stolen from the Lal residence were recovered from the defendantâ€™s hideout.\n",
      "Defense Argument:\n",
      "The defense argued that Rajesh Kumar was not present at the crime scene and was wrongfully accused. They suggested that the evidence was circumstantial and that the defendant was a victim of mistaken identity. The defense also highlighted the lack of direct eyewitnesses other than the victim's wife.\n",
      "\n",
      "\n",
      "Prosecution Argument:\n",
      "The prosecution relied on the strong testimonial evidence of Mrs. Kamla Lal, supported by forensic evidence and CCTV footage. They argued that the recovered stolen items found in the possession of the defendant conclusively linked him to the crime. The prosecution emphasized the brutality of the murder and the overwhelming evidence of the defendant's guilt.\n",
      "\n",
      "\n",
      "Verdict:\n",
      "The court found Rajesh Kumar guilty on all charges, including murder, robbery, and possession of stolen property.\n",
      "\n",
      "\n",
      "Sentencing:\n",
      "Rajesh Kumar was sentenced to life imprisonment for the murder charge under Section 302 of the IPC. Additionally, he received ten years of rigorous imprisonment for the robbery charge under Section 397 of the IPC and five years for receiving stolen property under Section 411 of the IPC, with sentences to run concurrently.\n",
      "Human: What was this case about\u001b[0m\n",
      "\n",
      "\u001b[1m> Finished chain.\u001b[0m\n",
      "\n",
      "\u001b[1m> Finished chain.\u001b[0m\n"
     ]
    },
    {
     "data": {
      "text/plain": [
       "\"This case, State of Maharashtra v. Rajesh Kumar, was about a murder, robbery, and possession of stolen property that took place on the night of October 15, 2021. According to the prosecution, Rajesh Kumar, along with two accomplices, forcibly entered the residence of Mr. Shyam Lal in Mumbai, tied him and his wife, Mrs. Kamla Lal, with ropes, and looted the house. In a fit of rage, Kumar struck the victim multiple times with a blunt object and caused his death. The investigation led to Kumar's apprehension, and evidence such as eyewitness testimony, forensic evidence, and CCTV footage was presented against him. The court ultimately found Kumar guilty on all charges and sentenced him to life imprisonment for the murder, with additional sentences for robbery and possession of stolen property.\""
      ]
     },
     "execution_count": 18,
     "metadata": {},
     "output_type": "execute_result"
    }
   ],
   "source": [
    "queschain.run(question = query,input_documents = textdata) # Invoking the chain"
   ]
  },
  {
   "cell_type": "markdown",
   "metadata": {},
   "source": [
    "It gave a relevant answer for the query."
   ]
  },
  {
   "cell_type": "markdown",
   "metadata": {},
   "source": [
    "Not done any complex work because of small data, just loaded the data and performed summarization and Q&A."
   ]
  }
 ],
 "metadata": {
  "kernelspec": {
   "display_name": "Python 3",
   "language": "python",
   "name": "python3"
  },
  "language_info": {
   "codemirror_mode": {
    "name": "ipython",
    "version": 3
   },
   "file_extension": ".py",
   "mimetype": "text/x-python",
   "name": "python",
   "nbconvert_exporter": "python",
   "pygments_lexer": "ipython3",
   "version": "3.9.6"
  }
 },
 "nbformat": 4,
 "nbformat_minor": 2
}

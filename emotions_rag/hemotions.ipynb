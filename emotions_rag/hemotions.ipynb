{
 "cells": [
  {
   "cell_type": "markdown",
   "metadata": {},
   "source": [
    "Building a Normal RAG System with GROQ Inferencing - Loading the data from website (betterhealth) that deals with suicide and mental health conditions."
   ]
  },
  {
   "cell_type": "code",
   "execution_count": 57,
   "metadata": {},
   "outputs": [],
   "source": [
    "from langchain.document_loaders import WebBaseLoader # Initializing web base loader\n",
    "from langchain.text_splitter import RecursiveCharacterTextSplitter  # For chunking\n",
    "from langchain_groq import ChatGroq # Inference\n",
    "from langchain.chains.summarize import load_summarize_chain \n",
    "from langchain.chains.question_answering import load_qa_chain\n",
    "import os # Detecting environment\n",
    "from dotenv import load_dotenv"
   ]
  },
  {
   "cell_type": "code",
   "execution_count": 23,
   "metadata": {},
   "outputs": [
    {
     "data": {
      "text/plain": [
       "True"
      ]
     },
     "execution_count": 23,
     "metadata": {},
     "output_type": "execute_result"
    }
   ],
   "source": [
    "load_dotenv() # Loading the environment"
   ]
  },
  {
   "cell_type": "code",
   "execution_count": 24,
   "metadata": {},
   "outputs": [],
   "source": [
    "os.environ[\"GROQ_API_KEY\"] = os.getenv(\"GROQ_API_KEY\") # Loading the API Key"
   ]
  },
  {
   "cell_type": "code",
   "execution_count": 11,
   "metadata": {},
   "outputs": [],
   "source": [
    "bthealthdocs = WebBaseLoader(web_path=\"https://www.betterhealth.vic.gov.au/health/conditionsandtreatments/suicide-and-mental-illness\")"
   ]
  },
  {
   "cell_type": "code",
   "execution_count": 17,
   "metadata": {},
   "outputs": [],
   "source": [
    "healthdocsloader = bthealthdocs.load() # Loading the document"
   ]
  },
  {
   "cell_type": "code",
   "execution_count": 18,
   "metadata": {},
   "outputs": [
    {
     "data": {
      "text/plain": [
       "[Document(page_content=\"\\n\\n\\nSuicide and mental health conditions - Better Health Channel\\n\\n\\n Skip to main content   Better Health Channel   \\n        Our websites\\n        View the list          Conditions and treatments  Conditions AllergiesAnxietyArthritisAsthmaBehavioural conditionsBirth defectsCancerCOVID-19DementiaDepressionDiabetesInfectionsMental health and wellbeingSexually transmissible infectionsSleepStrokePain and pain management Body parts Mouth and teethBlood and blood vesselsHair and nailsGenetic conditionsBones muscles and jointsEar nose and throatBody systems Fertility and the reproductive system - maleFertility and the reproductive system - femaleDigestive systemImmune systemHormonal system (endocrine)Neuromuscular system Organs Brain and nervesEyesLungsKidney and bladderHeartSkinTests and treatments Complementary and alternative careFirst AidSurgeryMedical testsMedications      Healthy living  Keeping healthy Health checksHealthy eatingHealthy mindKeeping activeWeight managementWorkImmunisation Keeping safe SafetyEnvironmental healthTravel and holidaysParenting PregnancyParentsChild health (0-6)Children (4-12)Young people (13-19) Relationships RelationshipsSexual healthFamily violenceAlcohol and drugs AlcoholDrugsSmoking and tobacco      Services and support  Services Aged care servicesAlcohol and drug servicesCarers, caring and respite care servicesDisability servicesEmergency, crisis and support servicesLGBTIQA+ support servicesMental health servicesPalliative care and end of life servicesTrauma recovery services Managing healthcare Planning and coordinating healthcareSeeing a doctor, specialist or health professionalHospitals, surgery and proceduresPregnancy, birth and raising children Child, family and relationship servicesPregnancy and birth services       A-Z       Search    Search  Menu       Mental health and wellbeing Home Mental health and wellbeing   Suicide and mental health conditions   Actions for this page   Listen\\n                    Print\\n                    Summary Read the full fact sheet   Some mental health conditions are associated with an increased risk of suicide.Experiencing risk factors doesn’t necessarily mean a person will think about or attempt to take their own life.\\xa0Thoughts about suicide or self-harm are just thoughts and do not mean you need to act on them. On this page    The relationship between mental health and suicide   Other risk factors for suicide   Suicide warning signs   What to do if a relative or friend lets you know they are suicidal   After a suicide attempt   If you have suicidal thoughts   Where to get help Over 3,000 Australians die from suicide each year, with mental health conditions being a significant risk factor. It’s estimated that 5% of Australians have ever attempted to take their own life. This equates to an average of 8.57 deaths by suicide in Australia each day. This is more than double the road toll. Research indicates that mental health conditions such as depression, psychosis and substance use are associated with an increased risk of suicide. Experiencing risk factors doesn’t necessarily mean a person will think about or attempt to take their own life. Protective factors can reduce suicide risk, particularly effective mental health care, counselling, social support and connectedness.  The relationship between mental health and suicide Often people who are considering suicide are dealing with a combination of mental ill-health and difficult life events. Symptoms such as very low mood, negative thinking, severe anxiety, and psychosis can lead to suicidal thoughts.  Researchers believe that some people who end their own lives do not actually want to die, but feel there is no other option to relieve them of their pain. Some might experience a sense of hopelessness, and feel that things cannot get better. Those who do take their own life may feel overwhelmed, seeking release from their distress. But with effective treatment, social support and time, many who have tried to end their life, or considered ending their life, can go on to live full and meaningful lives.  Other risk factors for suicide It is important to understand that suicide is the result of many factors in a person’s life and not one particular event or discussion. Suicide is complex: there is no single explanation. Aside from mental health conditions, contributing factors to being at risk of suicide may include: substance abuse chronic health issues, pain or physical disability feelings of isolation or helplessness loss negative life events (abuse, significant loss, financial crisis) previous suicide attempt or exposure to suicide behaviour in others.Men, people living in rural and remote regions, and Aboriginal and Torres Strait Islander people also have a higher rate of suicide. Suicide warning signs People who take their own life sometimes display warning signs beforehand. For people who are experiencing a mental health condition, sometimes this might look like an increase or escalation in symptoms. Some warning signs include: expressions of hopelessness or helplessness an overwhelming sense of shame or guilt a dramatic change in personality or appearance, or irrational or bizarre behaviour changed eating or sleeping habits a drop in school or work performance a lack of interest in things previously important, and the future writing, speaking or joking about suicide, death or dying or intention giving away possessions and putting affairs in order suddenly seeming ‘at peace’ increasing alcohol and drug use withdrawing from friends, family or society.What to do if a relative or friend lets you know they are suicidal If you think a friend or relative is at risk, discuss your concerns with them openly and non-judgmentally. Rather than putting the idea of suicide into someone’s head, a supportive conversation gives them the opportunity to talk about their distress.  \\nEncourage or help the person to access professional help, such as their mental health professional or a support helpline, such as:  LifelineExternal Link   Tel. 13 11 14 (24 hours)  Kids Help  LineExternal Link   Tel. 1800 551 800 (24 hours) Suicide Call Back  ServiceExternal Link   Tel. 1300 659 467 (24 hours)  SuicideLineExternal Link   Tel. 1300 651 251 (24 hours) If the person is at serious risk of suicide, stay with them if possible and contact the psychiatric emergency team at your local  hospitalExternal Link  . Or call 000, explaining the person is suicidal, has made a plan, and you have concerns for their safety. Keep these numbers readily available in case you need urgent help.  After a suicide attempt For family and friends, a suicide attempt can bring a range of intense and unexpected emotions that can change quickly and unpredictably. There is no right or wrong way to react. \\nSupporting a person who has attempted suicide can be stressful and overwhelming. It is important to look after yourself. Catch up regularly with friends, family members and significant others, and make time for yourself. Access support services, groups or health professionals to talk about how you feel.\\nLearn about suicide risk factors and behaviour to look out for. It is important to not blame yourself for the suicide attempt. If someone is determined to end their life, it can be very difficult to stop them. If you have suicidal thoughts Feeling suicidal means feeling more pain than you can cope with at the time. Thoughts of suicide are only thoughts. Having them does not mean you need to act on them. Try to remember that with help, you can feel better and keep yourself safe. People get through this. You can too. Some ways to stay safe when experiencing suicidal thoughts include: Tell someone how you feel – a family member, trusted friend or teacher. Ask them to stay with you until you get help. Call your local hospital and ask for the Mental Health Team. Go to your GP, psychologist, psychiatrist or other mental health professional. Call a crisis helpline – they’re listed at the end of this article. Call 000.Think about another time in your life when you might have faced similarly stressful circumstances. What did you do to cope? Can you do the same things now? Stay focused on the present – worrying about whether things will improve often just leads to feeling more overwhelmed. Try breaking up your day and planning a short activity that will distract you. Then plan your next activity once you’ve finished that one. Create a safety plan or draw upon one you have already developed. Try using  BeyondNow External Link  – a free safety planning app created by Beyond  BlueExternal Link  . It can help you if you're having suicidal thoughts and distress. Try relaxation techniques. Follow up with your health professionals. A change in any medication and treatment may help reduce any suicidal thoughts. Remember you do not have to act on suicidal thoughts. They will pass in time, despite how overwhelming they may feel.Where to get help SANE Help  CentreExternal Link   Tel. 1800 18 SANE (7263) (Monday – Friday, 10 am–10 pm AEST) SANE  ForumsExternal Link   are full of people who want to talk to you and offer support.  Your GP (Doctor)  LifelineExternal Link   Tel. 13 11 14 (24 hours)  Kids Help  LineExternal Link   Tel. 1800 551 800 (24 hours) Suicide Call Back  ServiceExternal Link   Tel. 1300 659 467 (24 hours)  SuicideLineExternal Link   Tel. 1300 651 251 (24 hours)   GriefLineExternal Link   Tel. 1300 845 745 (midday to 3 am AEST, 7 days) Beyond  BlueExternal Link   Tel. 1300 22 4636 (24 hours)      Suicidal  behaviourExternal Link  , SANE.  Suicide facts and  statsExternal Link  , Life in Mind, Australia. Warning signs for suicide and  self-harmExternal Link  , Black Dog Institute, Prince of Wales Hospital, Randwick, NSW. How to help when someone is  suicidalExternal Link  , Sane Australia. Guiding their way back – a resource for people who are supporting someone after a suicide  attemptExternal Link  , 2018, Beyond Blue. Rocker S, Bachmann S 2015 ‘Suicidality in mental illness – prevention and  therapyExternal Link  ’, Therapeutische Umschau, vol. 72, no. 10, pp. 611–7. Bachmann S 2018 ‘Epidemiology of suicide and the psychiatric  perspectiveExternal Link  ’, International Journal of Environmental Research and Public Health, vol. 15, no. 7, p. 1425. Suicide prevention: key  factsExternal Link  , Everymind, Australia.  \\n      This page has been produced in consultation with and approved\\n      by:\\n           \\n      This page has been produced in consultation with and approved\\n      by:\\n       Give feedback about this page           Was this page helpful?  YesNo    View all mental health and wellbeing    More information  Related information    Suicide    SuicideLine     Youth suicide – the warning signs    Grief after suicide     Suicide Call Back Service     Support groups  External Link   Reach Out    From other websites  External Link   BluePages. External Link   headspace.org.au External Link   LiFE: Living is for everyone. External Link   SANE Australia.    \\n      This page has been produced in consultation with and approved\\n      by:\\n       Content disclaimer Content on this website is provided for information purposes only. Information about a therapy, service, product or treatment does not in any way endorse or support such therapy, service, product or treatment and is not intended to replace advice from your doctor or other registered health professional. The information and materials contained on this website are not intended to constitute a comprehensive guide concerning all aspects of the therapy, product or treatment described on the website. All users are urged to always seek advice from a registered health care professional for diagnosis and answers to their medical questions and to ascertain whether the particular therapy, service, product or treatment described on the website is suitable in their circumstances. The State of Victoria and the Department of Health\\xa0shall not bear any liability for reliance by any user on the materials contained on this website.  Reviewed on: 09-02-2023   Footer Footer navigation Health topics  Conditions and treatmentsHealthy livingServices and supportExplore  VideosService profilesConsumer medicine informationMultilingual health information - Health Translations DirectoryAbout  About usAccessibilityContent partnersPrivacyTerms of useContact us Connect with us    \\n            Facebook\\n            \\n            X (formerly Twitter)\\n            \\n            YouTube\\n            \\n            Instagram\\n           Footer other information    The Victorian Government acknowledges Aboriginal and Torres Strait Islander people as the Traditional Custodians of the land and acknowledges and pays respect to their Elders, past and present.\\r\\nThe Department of Health celebrates, values and includes people of all backgrounds, genders, sexualities, cultures, bodies and abilities. Privacy statement: https://www.betterhealth.vic.gov.au/about/privacyCopyright notice: https://www.betterhealth.vic.gov.au/about/terms-of-useDisclaimer notice: https://www.betterhealth.vic.gov.au/about/terms-of-use   This web site is managed and authorised by the Department of Health, State Government of Victoria, Australia © Copyright State of Victoria 2024. \\n\\n\\n\\n\", metadata={'source': 'https://www.betterhealth.vic.gov.au/health/conditionsandtreatments/suicide-and-mental-illness', 'title': 'Suicide and mental health conditions - Better Health Channel', 'description': 'Some mental health conditions are associated with an increased risk of suicide. Protective factors can reduce suicide risk, such as mental health care, counselling and social support.', 'language': 'en'})]"
      ]
     },
     "execution_count": 18,
     "metadata": {},
     "output_type": "execute_result"
    }
   ],
   "source": [
    "healthdocsloader"
   ]
  },
  {
   "cell_type": "markdown",
   "metadata": {},
   "source": [
    "The text documents are extracted from the website"
   ]
  },
  {
   "cell_type": "code",
   "execution_count": 14,
   "metadata": {},
   "outputs": [],
   "source": [
    "chunkdocs = RecursiveCharacterTextSplitter(chunk_size=2000,chunk_overlap=0) # Performing chunking"
   ]
  },
  {
   "cell_type": "code",
   "execution_count": 20,
   "metadata": {},
   "outputs": [],
   "source": [
    "splitdocs = chunkdocs.split_documents(healthdocsloader) # Splitting the documents"
   ]
  },
  {
   "cell_type": "markdown",
   "metadata": {},
   "source": [
    "### Summarization - Better Health Website"
   ]
  },
  {
   "cell_type": "markdown",
   "metadata": {},
   "source": [
    "Instancing LLM"
   ]
  },
  {
   "cell_type": "code",
   "execution_count": 45,
   "metadata": {},
   "outputs": [],
   "source": [
    "groqllm = ChatGroq(model=\"llama3-8b-8192\",temperature=0) # Llama3 model, 0 temp"
   ]
  },
  {
   "cell_type": "code",
   "execution_count": 46,
   "metadata": {},
   "outputs": [],
   "source": [
    "chain = load_summarize_chain(groqllm,chain_type=\"map_reduce\") # Chaining"
   ]
  },
  {
   "cell_type": "code",
   "execution_count": 47,
   "metadata": {},
   "outputs": [
    {
     "data": {
      "text/plain": [
       "'Here is a concise summary:\\n\\nThe article discusses the importance of recognizing the warning signs of suicide and seeking help. It highlights the link between mental health conditions, such as depression and anxiety, and suicidal thoughts and behaviors. The article encourages individuals to prioritize their mental well-being, seek support from loved ones and professionals, and recognize that seeking help is a sign of strength, not weakness. It also provides resources and support services for individuals struggling with suicidal thoughts or behaviors, as well as for those who want to help someone who is suicidal.'"
      ]
     },
     "execution_count": 47,
     "metadata": {},
     "output_type": "execute_result"
    }
   ],
   "source": [
    "chain.run(splitdocs)"
   ]
  },
  {
   "cell_type": "markdown",
   "metadata": {},
   "source": [
    "Q&A"
   ]
  },
  {
   "cell_type": "code",
   "execution_count": 54,
   "metadata": {},
   "outputs": [],
   "source": [
    "query = \"Did australia affected because of suicide\""
   ]
  },
  {
   "cell_type": "code",
   "execution_count": 55,
   "metadata": {},
   "outputs": [],
   "source": [
    "qachain = load_qa_chain(groqllm,chain_type=\"stuff\") # laoding the qa chain"
   ]
  },
  {
   "cell_type": "code",
   "execution_count": 56,
   "metadata": {},
   "outputs": [
    {
     "data": {
      "text/plain": [
       "'According to the text, yes, Australia has been affected by suicide. The text states that \"Over 3,000 Australians die from suicide each year, with mental health conditions being a significant risk factor.\" This is more than double the road toll. Additionally, the text mentions that men, people living in rural and remote regions, and Aboriginal and Torres Strait Islander people have a higher rate of suicide.'"
      ]
     },
     "execution_count": 56,
     "metadata": {},
     "output_type": "execute_result"
    }
   ],
   "source": [
    "qachain.run(input_documents=splitdocs,question=query)"
   ]
  },
  {
   "cell_type": "markdown",
   "metadata": {},
   "source": [
    "It gave the response related to the query. Hitting the better health website and extracting data and then converting them to chunks, performing Q&A."
   ]
  }
 ],
 "metadata": {
  "kernelspec": {
   "display_name": "Python 3",
   "language": "python",
   "name": "python3"
  },
  "language_info": {
   "codemirror_mode": {
    "name": "ipython",
    "version": 3
   },
   "file_extension": ".py",
   "mimetype": "text/x-python",
   "name": "python",
   "nbconvert_exporter": "python",
   "pygments_lexer": "ipython3",
   "version": "3.9.6"
  }
 },
 "nbformat": 4,
 "nbformat_minor": 2
}

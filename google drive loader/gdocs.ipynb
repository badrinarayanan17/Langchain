{
 "cells": [
  {
   "cell_type": "markdown",
   "metadata": {},
   "source": [
    "## Google drive files to interact with llm's"
   ]
  },
  {
   "cell_type": "markdown",
   "metadata": {},
   "source": [
    "Credentials path setup is very important to access all the google drive files. Consists of several steps to do in google cloud."
   ]
  },
  {
   "cell_type": "code",
   "execution_count": 5,
   "metadata": {},
   "outputs": [],
   "source": [
    "from langchain.document_loaders import GoogleDriveLoader\n",
    "from langchain_groq import ChatGroq\n",
    "import os"
   ]
  },
  {
   "cell_type": "code",
   "execution_count": 6,
   "metadata": {},
   "outputs": [],
   "source": [
    "os.environ[\"GOOGLE_APPLICATION_CREDENTIALS\"] = \"\""
   ]
  },
  {
   "cell_type": "markdown",
   "metadata": {},
   "source": [
    "Calling GoogleDriveLoader from langchain by specifying document id's and credentials for authentication. Folder id also can be used."
   ]
  },
  {
   "cell_type": "code",
   "execution_count": 7,
   "metadata": {},
   "outputs": [],
   "source": [
    "loader = GoogleDriveLoader(document_ids=[\"1rQ8H4a1trk9l73ZJwXj-SiC5CBGiNRvXm2x_NZk0fz\"],\n",
    "                            credentials_path=\"C:\\\\Users\\\\USER\\\\.credentials\\credentials.json\")\n",
    "                           "
   ]
  },
  {
   "cell_type": "code",
   "execution_count": 8,
   "metadata": {},
   "outputs": [],
   "source": [
    "docs = loader.load()"
   ]
  },
  {
   "cell_type": "code",
   "execution_count": 9,
   "metadata": {},
   "outputs": [
    {
     "data": {
      "text/plain": [
       "[Document(page_content=\"\\ufeffBADRINARAYANAN S\\r\\n  \\r\\n  BadriNarayanan S |    6383546484   |     badrisrp3836@gmail.com  |     badrinarayanan17\\r\\nEager to transition into the role of an AI Engineer, I bring a passion for innovation and experiential learning. Ready to leverage my skills in  AI Model Development, Application Development, API Integration to drive success through pioneering solutions.\\r\\n\\r\\n\\r\\n\\r\\n\\r\\nSkills ____________________________________________________________________________________________\\r\\n\\r\\n•   Python | PostgreSQL | FastAPI | PostmanAPI | \\r\\n\\r\\nExperience _______________________________________________________________________________________\\r\\n\\r\\n\\r\\n\\r\\nManagement Trainee\\r\\n\\t\\r\\n\\r\\n\\tNSP\\r\\n\\tBangalore, KA, India\\r\\n\\t02/2023 - 05/2023\\r\\n\\t•   Spearheaded the development of an AI & ML powered performance management system from concept to proof of concept completion       within a tight deadline of 3 months.\\r\\n•   Conducted extensive research on emerging AIML technologies and industry best practices, incorporating innovative solutions into the  project.\\r\\n•   Successfully completed the proof of concept, showcasing the system's capabilities to stakeholders and receiving positive feedback.\\r\\n•   Presented project updates and findings to senior management, effectively communicating progress, challenges, and recommendations.\\r\\n•   Contributed to the documentation of project specifications, methodologies, and outcomes, facilitating knowledge transfer and future development efforts.\\r\\n\\r\\n\\r\\n\\r\\nEducation ________________________________________________________________________________________\\r\\n\\r\\nMaster of Science\\r\\n•   \\r\\n    • Artificial Intelligence and Machine Learning\\r\\n\\t\\r\\n\\r\\n\\tChrist University\\r\\n\\tBangalore, KA, India\\r\\n\\t2023 - 2025\\r\\n\\t\\r\\n\\r\\nBsc Computer Science (SSS)\\r\\n•   \\r\\n    • Security System Specialization\\r\\n\\t\\r\\n\\r\\n\\tSubbalakshmi Lakshmipathy College of Science\\r\\n\\tMadurai, TN, India\\r\\n\\t2020 - 2023\\r\\n\\t\\r\\n\\r\\n\\r\\nProjects __________________________________________________________________________________________\\r\\n\\r\\n•   SOCIAL MEDIA APP: \\r\\n•   FLAVORBOT (DF):\\r\\n•   FACE RECOGNITION SOFTWARE:\\r\\n•   EMPLOYEE MANAGEMENT APP: \\r\\n•   PERFORMANCE MANAGEMENT SYSTEM:  \\r\\n\\r\\n\\r\\nMentorship _______________________________________________________________________________________\\r\\n\\r\\n•   Springboard: Coding Bootcamp Mentor responsible for mentoring and giving career advice to SWE students (01/2021 - 04/2022)\\r\\n•   Computer Science Tutor: Programming | Data Structure and Algorithms | career advice | coding interview prep | professional portfolio\\r\\n\\r\\nOthers ___________________________________________________________________________________________\\r\\n\\r\\n•   Bronze Award: Won 4th prize for the development of action game SPIKE at HAL Game Development Competition in Tokyo (03/2013)\\r\\n•   Certificate of Japanese Language Proficiency N1: The highest-level certificate of Japanese proficiency (24.1% Pass Rate) (02/2014)\", metadata={'source': 'https://docs.google.com/document/d/1rQ8H4a1trk9l73ZJwXj-SiC5CBGiNRvXm2x_NZk0fzw/edit', 'title': 'BadriNarayanan S - CV', 'when': '2024-05-23T16:40:04.838Z'})]"
      ]
     },
     "execution_count": 9,
     "metadata": {},
     "output_type": "execute_result"
    }
   ],
   "source": [
    "docs"
   ]
  },
  {
   "cell_type": "code",
   "execution_count": 10,
   "metadata": {},
   "outputs": [
    {
     "data": {
      "text/plain": [
       "langchain_core.documents.base.Document"
      ]
     },
     "execution_count": 10,
     "metadata": {},
     "output_type": "execute_result"
    }
   ],
   "source": [
    "type(docs[0])"
   ]
  },
  {
   "cell_type": "markdown",
   "metadata": {},
   "source": [
    "### Summarizing"
   ]
  },
  {
   "cell_type": "code",
   "execution_count": 11,
   "metadata": {},
   "outputs": [],
   "source": [
    "from langchain_community.llms import Ollama\n",
    "from langchain.chains.summarize import load_summarize_chain\n",
    "from dotenv import load_dotenv"
   ]
  },
  {
   "cell_type": "code",
   "execution_count": 12,
   "metadata": {},
   "outputs": [],
   "source": [
    "load_dotenv()\n",
    "\n",
    "# Langsmith tracking (Observable)\n",
    "os.environ['GROQ_API_KEY'] = os.getenv(\"GROQ_API_KEY\")\n",
    "os.environ[\"LANGCHAIN_TRACING_VR\"] = \"true\"\n",
    "os.environ[\"LANGCHAIN_API_KEY\"] = os.getenv(\"LANGCHAIN_API_KEY\")"
   ]
  },
  {
   "cell_type": "markdown",
   "metadata": {},
   "source": [
    "Using Ollama to call llama2 open source model"
   ]
  },
  {
   "cell_type": "code",
   "execution_count": 20,
   "metadata": {},
   "outputs": [],
   "source": [
    "llm = Ollama(model=\"llama2\",temperature=0)"
   ]
  },
  {
   "cell_type": "code",
   "execution_count": 21,
   "metadata": {},
   "outputs": [
    {
     "name": "stderr",
     "output_type": "stream",
     "text": [
      "c:\\Users\\USER\\AppData\\Local\\Programs\\Python\\Python39\\lib\\site-packages\\langchain_core\\_api\\deprecation.py:119: LangChainDeprecationWarning: The method `Chain.run` was deprecated in langchain 0.1.0 and will be removed in 0.2.0. Use invoke instead.\n",
      "  warn_deprecated(\n"
     ]
    },
    {
     "name": "stdout",
     "output_type": "stream",
     "text": [
      "\n",
      "\n",
      "\u001b[1m> Entering new MapReduceDocumentsChain chain...\u001b[0m\n",
      "\n",
      "\n",
      "\u001b[1m> Entering new LLMChain chain...\u001b[0m\n",
      "Prompt after formatting:\n",
      "\u001b[32;1m\u001b[1;3mWrite a concise summary of the following:\n",
      "\n",
      "\n",
      "\"﻿BADRINARAYANAN S\n",
      "  \n",
      "  BadriNarayanan S |    6383546484   |     badrisrp3836@gmail.com  |     badrinarayanan17\n",
      "Eager to transition into the role of an AI Engineer, I bring a passion for innovation and experiential learning. Ready to leverage my skills in  AI Model Development, Application Development, API Integration to drive success through pioneering solutions.\n",
      "\n",
      "\n",
      "\n",
      "\n",
      "Skills ____________________________________________________________________________________________\n",
      "\n",
      "•   Python | PostgreSQL | FastAPI | PostmanAPI | \n",
      "\n",
      "Experience _______________________________________________________________________________________\n",
      "\n",
      "\n",
      "\n",
      "Management Trainee\n",
      "\t\n",
      "\n",
      "\tNSP\n",
      "\tBangalore, KA, India\n",
      "\t02/2023 - 05/2023\n",
      "\t•   Spearheaded the development of an AI & ML powered performance management system from concept to proof of concept completion       within a tight deadline of 3 months.\n",
      "•   Conducted extensive research on emerging AIML technologies and industry best practices, incorporating innovative solutions into the  project.\n",
      "•   Successfully completed the proof of concept, showcasing the system's capabilities to stakeholders and receiving positive feedback.\n",
      "•   Presented project updates and findings to senior management, effectively communicating progress, challenges, and recommendations.\n",
      "•   Contributed to the documentation of project specifications, methodologies, and outcomes, facilitating knowledge transfer and future development efforts.\n",
      "\n",
      "\n",
      "\n",
      "Education ________________________________________________________________________________________\n",
      "\n",
      "Master of Science\n",
      "•   \n",
      "    • Artificial Intelligence and Machine Learning\n",
      "\t\n",
      "\n",
      "\tChrist University\n",
      "\tBangalore, KA, India\n",
      "\t2023 - 2025\n",
      "\t\n",
      "\n",
      "Bsc Computer Science (SSS)\n",
      "•   \n",
      "    • Security System Specialization\n",
      "\t\n",
      "\n",
      "\tSubbalakshmi Lakshmipathy College of Science\n",
      "\tMadurai, TN, India\n",
      "\t2020 - 2023\n",
      "\t\n",
      "\n",
      "\n",
      "Projects __________________________________________________________________________________________\n",
      "\n",
      "•   SOCIAL MEDIA APP: \n",
      "•   FLAVORBOT (DF):\n",
      "•   FACE RECOGNITION SOFTWARE:\n",
      "•   EMPLOYEE MANAGEMENT APP: \n",
      "•   PERFORMANCE MANAGEMENT SYSTEM:  \n",
      "\n",
      "\n",
      "Mentorship _______________________________________________________________________________________\n",
      "\n",
      "•   Springboard: Coding Bootcamp Mentor responsible for mentoring and giving career advice to SWE students (01/2021 - 04/2022)\n",
      "•   Computer Science Tutor: Programming | Data Structure and Algorithms | career advice | coding interview prep | professional portfolio\n",
      "\n",
      "Others ___________________________________________________________________________________________\n",
      "\n",
      "•   Bronze Award: Won 4th prize for the development of action game SPIKE at HAL Game Development Competition in Tokyo (03/2013)\n",
      "•   Certificate of Japanese Language Proficiency N1: The highest-level certificate of Japanese proficiency (24.1% Pass Rate) (02/2014)\"\n",
      "\n",
      "\n",
      "CONCISE SUMMARY:\u001b[0m\n",
      "\n",
      "\u001b[1m> Finished chain.\u001b[0m\n"
     ]
    },
    {
     "name": "stderr",
     "output_type": "stream",
     "text": [
      "c:\\Users\\USER\\AppData\\Local\\Programs\\Python\\Python39\\lib\\site-packages\\tqdm\\auto.py:21: TqdmWarning: IProgress not found. Please update jupyter and ipywidgets. See https://ipywidgets.readthedocs.io/en/stable/user_install.html\n",
      "  from .autonotebook import tqdm as notebook_tqdm\n",
      "c:\\Users\\USER\\AppData\\Local\\Programs\\Python\\Python39\\lib\\site-packages\\huggingface_hub\\file_download.py:148: UserWarning: `huggingface_hub` cache-system uses symlinks by default to efficiently store duplicated files but your machine does not support them in C:\\Users\\USER\\.cache\\huggingface\\hub\\models--gpt2. Caching files will still work but in a degraded version that might require more space on your disk. This warning can be disabled by setting the `HF_HUB_DISABLE_SYMLINKS_WARNING` environment variable. For more details, see https://huggingface.co/docs/huggingface_hub/how-to-cache#limitations.\n",
      "To support symlinks on Windows, you either need to activate Developer Mode or to run Python as an administrator. In order to see activate developer mode, see this article: https://docs.microsoft.com/en-us/windows/apps/get-started/enable-your-device-for-development\n",
      "  warnings.warn(message)\n"
     ]
    },
    {
     "name": "stdout",
     "output_type": "stream",
     "text": [
      "\n",
      "\n",
      "\u001b[1m> Entering new LLMChain chain...\u001b[0m\n",
      "Prompt after formatting:\n",
      "\u001b[32;1m\u001b[1;3mWrite a concise summary of the following:\n",
      "\n",
      "\n",
      "\"Badri Narayanan S is a highly motivated and skilled AI Engineer with a passion for innovation and experiential learning. He has a strong background in AI Model Development, Application Development, and API Integration, and is eager to leverage his skills to drive success through pioneering solutions.\n",
      "\n",
      "Badri's experience includes working as a Management Trainee at NSP in Bangalore, where he spearheaded the development of an AI & ML powered performance management system from concept to proof of concept completion within a tight deadline of 3 months. He conducted extensive research on emerging AIML technologies and industry best practices, incorporating innovative solutions into the project.\n",
      "\n",
      "Badri is currently pursuing his Master of Science in Artificial Intelligence and Machine Learning at Christ University, Bangalore. Prior to this, he completed his BSc Computer Science (SSS) with a specialization in Security System Specialization at Subbalakshmi Lakshmipathy College of Science, Madurai.\n",
      "\n",
      "Badri has also worked as a mentor at Springboard, a coding bootcamp, and as a computer science tutor, where he provided programming, data structure and algorithms, career advice, coding interview prep, and professional portfolio development services.\n",
      "\n",
      "In addition to his professional experience, Badri has won the Bronze Award for the development of an action game called SPIKE at the HAL Game Development Competition in Tokyo, and holds a Certificate of Japanese Language Proficiency N1, the highest-level certificate of Japanese proficiency.\"\n",
      "\n",
      "\n",
      "CONCISE SUMMARY:\u001b[0m\n",
      "\n",
      "\u001b[1m> Finished chain.\u001b[0m\n",
      "\n",
      "\u001b[1m> Finished chain.\u001b[0m\n"
     ]
    },
    {
     "data": {
      "text/plain": [
       "\"Badri Narayanan S is an AI Engineer with a strong background in AI model development, application development, and API integration. He has experience working as a Management Trainee at NSP and as a mentor at Springboard. Currently pursuing his Master's degree in Artificial Intelligence and Machine Learning, Badri has also worked as a computer science tutor and won the Bronze Award for an action game called SPIKE at the HAL Game Development Competition in Tokyo. He holds a Certificate of Japanese Language Proficiency N1.\""
      ]
     },
     "execution_count": 21,
     "metadata": {},
     "output_type": "execute_result"
    }
   ],
   "source": [
    "chain = load_summarize_chain(llm,chain_type=\"map_reduce\",verbose=True)\n",
    "chain.run(docs)"
   ]
  },
  {
   "cell_type": "markdown",
   "metadata": {},
   "source": [
    "It returned the summary for the google drive document. Used map reduce chain."
   ]
  },
  {
   "cell_type": "markdown",
   "metadata": {},
   "source": [
    "Using ChatGroq Inference to fasten"
   ]
  },
  {
   "cell_type": "code",
   "execution_count": 29,
   "metadata": {},
   "outputs": [],
   "source": [
    "groqllm = ChatGroq(model=\"llama3-70b-8192\",temperature=0)"
   ]
  },
  {
   "cell_type": "code",
   "execution_count": 16,
   "metadata": {},
   "outputs": [
    {
     "name": "stdout",
     "output_type": "stream",
     "text": [
      "\n",
      "\n",
      "\u001b[1m> Entering new MapReduceDocumentsChain chain...\u001b[0m\n",
      "\n",
      "\n",
      "\u001b[1m> Entering new LLMChain chain...\u001b[0m\n",
      "Prompt after formatting:\n",
      "\u001b[32;1m\u001b[1;3mWrite a concise summary of the following:\n",
      "\n",
      "\n",
      "\"﻿BADRINARAYANAN S\n",
      "  \n",
      "  BadriNarayanan S |    6383546484   |     badrisrp3836@gmail.com  |     badrinarayanan17\n",
      "Eager to transition into the role of an AI Engineer, I bring a passion for innovation and experiential learning. Ready to leverage my skills in  AI Model Development, Application Development, API Integration to drive success through pioneering solutions.\n",
      "\n",
      "\n",
      "\n",
      "\n",
      "Skills ____________________________________________________________________________________________\n",
      "\n",
      "•   Python | PostgreSQL | FastAPI | PostmanAPI | \n",
      "\n",
      "Experience _______________________________________________________________________________________\n",
      "\n",
      "\n",
      "\n",
      "Management Trainee\n",
      "\t\n",
      "\n",
      "\tNSP\n",
      "\tBangalore, KA, India\n",
      "\t02/2023 - 05/2023\n",
      "\t•   Spearheaded the development of an AI & ML powered performance management system from concept to proof of concept completion       within a tight deadline of 3 months.\n",
      "•   Conducted extensive research on emerging AIML technologies and industry best practices, incorporating innovative solutions into the  project.\n",
      "•   Successfully completed the proof of concept, showcasing the system's capabilities to stakeholders and receiving positive feedback.\n",
      "•   Presented project updates and findings to senior management, effectively communicating progress, challenges, and recommendations.\n",
      "•   Contributed to the documentation of project specifications, methodologies, and outcomes, facilitating knowledge transfer and future development efforts.\n",
      "\n",
      "\n",
      "\n",
      "Education ________________________________________________________________________________________\n",
      "\n",
      "Master of Science\n",
      "•   \n",
      "    • Artificial Intelligence and Machine Learning\n",
      "\t\n",
      "\n",
      "\tChrist University\n",
      "\tBangalore, KA, India\n",
      "\t2023 - 2025\n",
      "\t\n",
      "\n",
      "Bsc Computer Science (SSS)\n",
      "•   \n",
      "    • Security System Specialization\n",
      "\t\n",
      "\n",
      "\tSubbalakshmi Lakshmipathy College of Science\n",
      "\tMadurai, TN, India\n",
      "\t2020 - 2023\n",
      "\t\n",
      "\n",
      "\n",
      "Projects __________________________________________________________________________________________\n",
      "\n",
      "•   SOCIAL MEDIA APP: \n",
      "•   FLAVORBOT (DF):\n",
      "•   FACE RECOGNITION SOFTWARE:\n",
      "•   EMPLOYEE MANAGEMENT APP: \n",
      "•   PERFORMANCE MANAGEMENT SYSTEM:  \n",
      "\n",
      "\n",
      "Mentorship _______________________________________________________________________________________\n",
      "\n",
      "•   Springboard: Coding Bootcamp Mentor responsible for mentoring and giving career advice to SWE students (01/2021 - 04/2022)\n",
      "•   Computer Science Tutor: Programming | Data Structure and Algorithms | career advice | coding interview prep | professional portfolio\n",
      "\n",
      "Others ___________________________________________________________________________________________\n",
      "\n",
      "•   Bronze Award: Won 4th prize for the development of action game SPIKE at HAL Game Development Competition in Tokyo (03/2013)\n",
      "•   Certificate of Japanese Language Proficiency N1: The highest-level certificate of Japanese proficiency (24.1% Pass Rate) (02/2014)\"\n",
      "\n",
      "\n",
      "CONCISE SUMMARY:\u001b[0m\n",
      "\n",
      "\u001b[1m> Finished chain.\u001b[0m\n",
      "\n",
      "\n",
      "\u001b[1m> Entering new LLMChain chain...\u001b[0m\n",
      "Prompt after formatting:\n",
      "\u001b[32;1m\u001b[1;3mWrite a concise summary of the following:\n",
      "\n",
      "\n",
      "\"Here is a concise summary:\n",
      "\n",
      "BadriNarayanan S is an aspiring AI Engineer with a passion for innovation and experiential learning. He has a Master's degree in Artificial Intelligence and Machine Learning and a Bachelor's degree in Computer Science. He has experience as a Management Trainee, where he developed an AI-powered performance management system, and has skills in AI model development, application development, and API integration. He has also worked on various projects, including a social media app, face recognition software, and an employee management app. Additionally, he has experience as a mentor and tutor, and has won awards for game development and Japanese language proficiency.\"\n",
      "\n",
      "\n",
      "CONCISE SUMMARY:\u001b[0m\n",
      "\n",
      "\u001b[1m> Finished chain.\u001b[0m\n",
      "\n",
      "\u001b[1m> Finished chain.\u001b[0m\n"
     ]
    },
    {
     "data": {
      "text/plain": [
       "\"Here is a concise summary:\\n\\nBadriNarayanan S: AI Engineer with Master's in AI/ML and Bachelor's in CS, experienced in AI model development, app development, and API integration, with a background in mentoring and tutoring, and a track record of innovative projects and awards.\""
      ]
     },
     "execution_count": 16,
     "metadata": {},
     "output_type": "execute_result"
    }
   ],
   "source": [
    "chain = load_summarize_chain(groqllm,chain_type=\"map_reduce\",verbose=True)\n",
    "chain.run(docs)"
   ]
  },
  {
   "cell_type": "markdown",
   "metadata": {},
   "source": [
    "Chatgroq performed it in less than 3 sec. This is the absolute usecase of this inference engine."
   ]
  },
  {
   "cell_type": "markdown",
   "metadata": {},
   "source": [
    "### Asking Questions"
   ]
  },
  {
   "cell_type": "code",
   "execution_count": 17,
   "metadata": {},
   "outputs": [],
   "source": [
    "from langchain.chains.question_answering import load_qa_chain"
   ]
  },
  {
   "cell_type": "code",
   "execution_count": 26,
   "metadata": {},
   "outputs": [],
   "source": [
    "query = \"Where the resume holder did the internship\" # Querying the document"
   ]
  },
  {
   "cell_type": "code",
   "execution_count": 28,
   "metadata": {},
   "outputs": [
    {
     "name": "stdout",
     "output_type": "stream",
     "text": [
      "\n",
      "\n",
      "\u001b[1m> Entering new StuffDocumentsChain chain...\u001b[0m\n",
      "\n",
      "\n",
      "\u001b[1m> Entering new LLMChain chain...\u001b[0m\n",
      "Prompt after formatting:\n",
      "\u001b[32;1m\u001b[1;3mSystem: Use the following pieces of context to answer the user's question. \n",
      "If you don't know the answer, just say that you don't know, don't try to make up an answer.\n",
      "----------------\n",
      "﻿BADRINARAYANAN S\n",
      "  \n",
      "  BadriNarayanan S |    6383546484   |     badrisrp3836@gmail.com  |     badrinarayanan17\n",
      "Eager to transition into the role of an AI Engineer, I bring a passion for innovation and experiential learning. Ready to leverage my skills in  AI Model Development, Application Development, API Integration to drive success through pioneering solutions.\n",
      "\n",
      "\n",
      "\n",
      "\n",
      "Skills ____________________________________________________________________________________________\n",
      "\n",
      "•   Python | PostgreSQL | FastAPI | PostmanAPI | \n",
      "\n",
      "Experience _______________________________________________________________________________________\n",
      "\n",
      "\n",
      "\n",
      "Management Trainee\n",
      "\t\n",
      "\n",
      "\tNSP\n",
      "\tBangalore, KA, India\n",
      "\t02/2023 - 05/2023\n",
      "\t•   Spearheaded the development of an AI & ML powered performance management system from concept to proof of concept completion       within a tight deadline of 3 months.\n",
      "•   Conducted extensive research on emerging AIML technologies and industry best practices, incorporating innovative solutions into the  project.\n",
      "•   Successfully completed the proof of concept, showcasing the system's capabilities to stakeholders and receiving positive feedback.\n",
      "•   Presented project updates and findings to senior management, effectively communicating progress, challenges, and recommendations.\n",
      "•   Contributed to the documentation of project specifications, methodologies, and outcomes, facilitating knowledge transfer and future development efforts.\n",
      "\n",
      "\n",
      "\n",
      "Education ________________________________________________________________________________________\n",
      "\n",
      "Master of Science\n",
      "•   \n",
      "    • Artificial Intelligence and Machine Learning\n",
      "\t\n",
      "\n",
      "\tChrist University\n",
      "\tBangalore, KA, India\n",
      "\t2023 - 2025\n",
      "\t\n",
      "\n",
      "Bsc Computer Science (SSS)\n",
      "•   \n",
      "    • Security System Specialization\n",
      "\t\n",
      "\n",
      "\tSubbalakshmi Lakshmipathy College of Science\n",
      "\tMadurai, TN, India\n",
      "\t2020 - 2023\n",
      "\t\n",
      "\n",
      "\n",
      "Projects __________________________________________________________________________________________\n",
      "\n",
      "•   SOCIAL MEDIA APP: \n",
      "•   FLAVORBOT (DF):\n",
      "•   FACE RECOGNITION SOFTWARE:\n",
      "•   EMPLOYEE MANAGEMENT APP: \n",
      "•   PERFORMANCE MANAGEMENT SYSTEM:  \n",
      "\n",
      "\n",
      "Mentorship _______________________________________________________________________________________\n",
      "\n",
      "•   Springboard: Coding Bootcamp Mentor responsible for mentoring and giving career advice to SWE students (01/2021 - 04/2022)\n",
      "•   Computer Science Tutor: Programming | Data Structure and Algorithms | career advice | coding interview prep | professional portfolio\n",
      "\n",
      "Others ___________________________________________________________________________________________\n",
      "\n",
      "•   Bronze Award: Won 4th prize for the development of action game SPIKE at HAL Game Development Competition in Tokyo (03/2013)\n",
      "•   Certificate of Japanese Language Proficiency N1: The highest-level certificate of Japanese proficiency (24.1% Pass Rate) (02/2014)\n",
      "Human: Where the resume holder did the internship\u001b[0m\n",
      "\n",
      "\u001b[1m> Finished chain.\u001b[0m\n",
      "\n",
      "\u001b[1m> Finished chain.\u001b[0m\n"
     ]
    },
    {
     "data": {
      "text/plain": [
       "'According to the provided context, the resume holder did the internship at NSP in Bangalore, KA, India, from 02/2023 to 05/2023, as a Management Trainee.'"
      ]
     },
     "execution_count": 28,
     "metadata": {},
     "output_type": "execute_result"
    }
   ],
   "source": [
    "chain = load_qa_chain(groqllm,chain_type=\"stuff\",verbose=True)\n",
    "chain.run(input_documents = docs, question = query)"
   ]
  },
  {
   "cell_type": "markdown",
   "metadata": {},
   "source": [
    "It gave good results after interacting with the document. Langchain has the ability to hold the prompts.\n",
    "\n",
    "If we want to interact with another document we can simply extend the initial doc. It holds all the base."
   ]
  },
  {
   "cell_type": "markdown",
   "metadata": {},
   "source": []
  }
 ],
 "metadata": {
  "kernelspec": {
   "display_name": "Python 3",
   "language": "python",
   "name": "python3"
  },
  "language_info": {
   "codemirror_mode": {
    "name": "ipython",
    "version": 3
   },
   "file_extension": ".py",
   "mimetype": "text/x-python",
   "name": "python",
   "nbconvert_exporter": "python",
   "pygments_lexer": "ipython3",
   "version": "3.9.6"
  }
 },
 "nbformat": 4,
 "nbformat_minor": 2
}

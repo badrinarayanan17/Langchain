{
 "cells": [
  {
   "cell_type": "markdown",
   "metadata": {},
   "source": [
    "## Youtube Videos to interact with LLM'S - GROQ INFERENCE"
   ]
  },
  {
   "cell_type": "markdown",
   "metadata": {},
   "source": [
    "Converting a video into documents(text) and it will summarize each documents based on the chain type."
   ]
  },
  {
   "cell_type": "code",
   "execution_count": 1,
   "metadata": {},
   "outputs": [],
   "source": [
    "from langchain_groq import ChatGroq\n",
    "from langchain.chains.summarize import load_summarize_chain # For summarizing youtube videos\n",
    "from langchain.document_loaders import YoutubeLoader # Loading the youtube loader\n",
    "from langchain.text_splitter import RecursiveCharacterTextSplitter\n",
    "from dotenv import load_dotenv\n",
    "import os"
   ]
  },
  {
   "cell_type": "markdown",
   "metadata": {},
   "source": [
    "Setting up the environment"
   ]
  },
  {
   "cell_type": "code",
   "execution_count": 4,
   "metadata": {},
   "outputs": [],
   "source": [
    "load_dotenv\n",
    "os.environ[\"GROQ_API_KEY\"] = os.getenv(\"GROQ_API_KEY\")"
   ]
  },
  {
   "cell_type": "code",
   "execution_count": 5,
   "metadata": {},
   "outputs": [],
   "source": [
    "ytloader = YoutubeLoader.from_youtube_url(\"https://www.youtube.com/watch?v=s6UDmJdhJo4\",add_video_info=True)"
   ]
  },
  {
   "cell_type": "code",
   "execution_count": 6,
   "metadata": {},
   "outputs": [],
   "source": [
    "documents = ytloader.load() # loading the documents"
   ]
  },
  {
   "cell_type": "code",
   "execution_count": 7,
   "metadata": {},
   "outputs": [
    {
     "data": {
      "text/plain": [
       "[Document(page_content=\"if you are using open aai you should probably know this open AI has made a huge announcement by adding former NSA Chief to its board National Security Agency of the United States of America is known for tracking people or at least those were the issues with Edward Snowden as far as I remember and open AI has announced that it has added former NASA chief us cyber command and army General Paul Nason I'm not sure if I'm pronouncing his name correctly but Paul I'm sorry if I'm not pronouncing it correctly Paul comes with a really good experience of cyber security open AI say about Paul's appointment artificial intelligence has the potential to have huge positive impacts on people's lives but it can only meet this potential if these Innovations are securely built built and deployed it also said General nason's unparallel experience in areas like sub cyber security will help guide open AI in achieving its mission of ensuring artificial general intelligence benefits all of humanity and there are a couple of people from army had told this particular news outlet axios that he might have had a lot of options uh and he's one of the most respected persons from the Army or security community so overall if you see this particular aspect there are a couple of things that you can easily make out one open AI primarily wants somebody who can influence government or open AI probably wants US government to trust open AI that it is a very Pro government Pro USA especially with news around you know like Russia Ian cyber Security Experts or Russian hackers try to steal data from open AI open AI had explicitly blocked couple of accounts in the past trying saying that these people were trying to manipulate elections or data or something like that but this particular move is very interesting given that open AI very recently signed or announced an agreement with apple to integrate chat GPT with iPhone Apple has been openly against any kind of U tracking and there are certain instances where when these kind of institutes asked Apple to unlock devices Apple outright denied this has happened in the past so I'm quite surprised to see and I'm also skeptical I'm wondering if Sam Altman actually waited for the Apple event to finish so that Apple can announce this information and then they made this announcement that former NSA Chief has joined open AI as somebody who doesn't live in USA I'm not sure what kind of implications it will have on people outside of USA But if you are living in USA and if you're going to use CH GPT I thought this is your moral right to know that the tool that you're using has got a former NSA Chief inside its board I have been a skeptic of open AI but I've always given them the benefit of out because they have also done a lot of good things their models have always set higher benchmarks they have open sourced whisper like open source libraries and they have always made sure that people follow their path but this particular move is very interesting and also in some sort doesn't feel anything to the name open AI it almost feels like first open AI removed open from AI now they've added NSA or slash tracking into it I'm not saying that that is what open AI is going to do but that is what most average citizens who are skeptic of whatever the government tracking or the security measures happen at the end of the day my job is to let you know that this is happening and I would like to hear what you think about this particular move of open AI if you are not a part of United States of America do you think this will affect you see you in another video Happy prompting\", metadata={'source': 's6UDmJdhJo4', 'title': 'You SHOULD Definitely Know this if you use OpenAI!!!', 'description': 'Unknown', 'view_count': 3555, 'thumbnail_url': 'https://i.ytimg.com/vi/s6UDmJdhJo4/hq720.jpg?sqp=-oaymwEmCIAKENAF8quKqQMa8AEB-AH-CYAC0AWKAgwIABABGHIgTSgzMA8=&rs=AOn4CLBJRnjsrqV66yUpeI2GgY7MM-ml6g', 'publish_date': '2024-06-14 00:00:00', 'length': 273, 'author': '1littlecoder'})]"
      ]
     },
     "execution_count": 7,
     "metadata": {},
     "output_type": "execute_result"
    }
   ],
   "source": [
    "documents"
   ]
  },
  {
   "cell_type": "markdown",
   "metadata": {},
   "source": [
    "It gave the transcript of the video, good to move on."
   ]
  },
  {
   "cell_type": "markdown",
   "metadata": {},
   "source": [
    "Instancing groq"
   ]
  },
  {
   "cell_type": "code",
   "execution_count": 8,
   "metadata": {},
   "outputs": [],
   "source": [
    "groqllm = ChatGroq(model=\"Mixtral-8x7b-32768\",temperature=2) # Using mixtral model with temperature as 2"
   ]
  },
  {
   "cell_type": "code",
   "execution_count": 9,
   "metadata": {},
   "outputs": [
    {
     "name": "stdout",
     "output_type": "stream",
     "text": [
      "\n",
      "\n",
      "\u001b[1m> Entering new StuffDocumentsChain chain...\u001b[0m\n",
      "\n",
      "\n",
      "\u001b[1m> Entering new LLMChain chain...\u001b[0m\n",
      "Prompt after formatting:\n",
      "\u001b[32;1m\u001b[1;3mWrite a concise summary of the following:\n",
      "\n",
      "\n",
      "\"if you are using open aai you should probably know this open AI has made a huge announcement by adding former NSA Chief to its board National Security Agency of the United States of America is known for tracking people or at least those were the issues with Edward Snowden as far as I remember and open AI has announced that it has added former NASA chief us cyber command and army General Paul Nason I'm not sure if I'm pronouncing his name correctly but Paul I'm sorry if I'm not pronouncing it correctly Paul comes with a really good experience of cyber security open AI say about Paul's appointment artificial intelligence has the potential to have huge positive impacts on people's lives but it can only meet this potential if these Innovations are securely built built and deployed it also said General nason's unparallel experience in areas like sub cyber security will help guide open AI in achieving its mission of ensuring artificial general intelligence benefits all of humanity and there are a couple of people from army had told this particular news outlet axios that he might have had a lot of options uh and he's one of the most respected persons from the Army or security community so overall if you see this particular aspect there are a couple of things that you can easily make out one open AI primarily wants somebody who can influence government or open AI probably wants US government to trust open AI that it is a very Pro government Pro USA especially with news around you know like Russia Ian cyber Security Experts or Russian hackers try to steal data from open AI open AI had explicitly blocked couple of accounts in the past trying saying that these people were trying to manipulate elections or data or something like that but this particular move is very interesting given that open AI very recently signed or announced an agreement with apple to integrate chat GPT with iPhone Apple has been openly against any kind of U tracking and there are certain instances where when these kind of institutes asked Apple to unlock devices Apple outright denied this has happened in the past so I'm quite surprised to see and I'm also skeptical I'm wondering if Sam Altman actually waited for the Apple event to finish so that Apple can announce this information and then they made this announcement that former NSA Chief has joined open AI as somebody who doesn't live in USA I'm not sure what kind of implications it will have on people outside of USA But if you are living in USA and if you're going to use CH GPT I thought this is your moral right to know that the tool that you're using has got a former NSA Chief inside its board I have been a skeptic of open AI but I've always given them the benefit of out because they have also done a lot of good things their models have always set higher benchmarks they have open sourced whisper like open source libraries and they have always made sure that people follow their path but this particular move is very interesting and also in some sort doesn't feel anything to the name open AI it almost feels like first open AI removed open from AI now they've added NSA or slash tracking into it I'm not saying that that is what open AI is going to do but that is what most average citizens who are skeptic of whatever the government tracking or the security measures happen at the end of the day my job is to let you know that this is happening and I would like to hear what you think about this particular move of open AI if you are not a part of United States of America do you think this will affect you see you in another video Happy prompting\"\n",
      "\n",
      "\n",
      "CONCISE SUMMARY:\u001b[0m\n",
      "\n",
      "\u001b[1m> Finished chain.\u001b[0m\n",
      "\n",
      "\u001b[1m> Finished chain.\u001b[0m\n"
     ]
    },
    {
     "data": {
      "text/plain": [
       "\"OpenAI has appointed former NSA Chief and Army General, Paul Nakasone, to its board, aiming to bolster its cybersecurity. The addition of a high-ranking US security official may enhance government trust in OpenAI, particularly amid concerns about foreign cybersecurity threats. This move comes after OpenAI's agreement with Apple to integrate ChatGPT with iPhones, despite Apple's resistance to user data tracking. As a non-US resident, the implications of this appointment for people outside the US are unclear. However, OpenAI users, especially in the US, should be aware of this change in leadership.\""
      ]
     },
     "execution_count": 9,
     "metadata": {},
     "output_type": "execute_result"
    }
   ],
   "source": [
    "yt_chain = load_summarize_chain(groqllm,chain_type=\"stuff\",verbose=True) \n",
    "yt_chain.run(documents)"
   ]
  },
  {
   "cell_type": "markdown",
   "metadata": {},
   "source": [
    "It gave a good summarization for the youtube video that I gave. Allocated temperature as 2, so that it can be creative."
   ]
  },
  {
   "cell_type": "markdown",
   "metadata": {},
   "source": [
    "It is a short video of around 4.22 minutes. It processed the video into document and I gave the chain type as stuff - it will give single call to llm. (Since it is a small video this chain type will be good, but in contrast if I gave a larger video, it depends upon the model's tokens lengths.)"
   ]
  },
  {
   "cell_type": "markdown",
   "metadata": {},
   "source": [
    "Larger video"
   ]
  },
  {
   "cell_type": "code",
   "execution_count": 10,
   "metadata": {},
   "outputs": [],
   "source": [
    "big_yt_vid = YoutubeLoader.from_youtube_url(\"https://www.youtube.com/watch?v=tRJzS3dCoAQ\",add_video_info = True)"
   ]
  },
  {
   "cell_type": "code",
   "execution_count": 11,
   "metadata": {},
   "outputs": [],
   "source": [
    "loadvid = big_yt_vid.load()"
   ]
  },
  {
   "cell_type": "code",
   "execution_count": 12,
   "metadata": {},
   "outputs": [
    {
     "data": {
      "text/plain": [
       "[Document(page_content=\"Hello, everyone. Welcome back to Judgement Day. Brought to you by BKT Tires. As always, PDogg has started talking before the show starts. So, we are starting off with a laugh. And of course, it is a time when Indian fans smile a lot. The Indian juggernaut keeps rolling on. We shouldn't say that they plundered Afghanistan because it was never a match, as PDogg had said earlier. You can say that, bro. Huh? You can say that. No, he only said that it was 92–8 percent. Many people have commented that PDogg hasn't given a reason for that 8 percent till the end. That's what many people have said. Because I worked with 4, 5, or 6 people in PSL, SA League, and all. I said it out of affection. Otherwise, I would have given it minus 8 percent. I gave it 8 percent out of pity because there were some brothers who were not born with me . If you criticize that too, the next edge will be different. We were discussing this with the admin. Many of your YouTube comments from Prasanna's fans are badgering him. Are they a group that you created, or has it come on its own? Why are you getting me humiliated like this? I am getting insults from all sides. Fans are only for legends like you. When I look at Robin's moustache, I feel like singing a song for him. sings Macha Meesai from Dhill, a Vidyasagar classic. Ask him. What does your wife think of the moustache, Robin? What is the reason? I did it last night, bro. I was trimming my beard. I wanted to do it in a little bit of a Coorgi style. When I came out, she was like, What are you looking like when you are a South Indian actor? So, I said, Yeah, that was the look I was actually going for. I am saying this confidently. All wives will say the same thing if we do it like this. But it looks good. It looks superb. It looks decent, right? It doesn't look decent. It looks superb. That's what South Indian heroes do. We shouldn’t stereotype. If you have a moustache, you are a South Indian hero. If you have an Australian moustache, you are a Mohamba. If we have it, we become a South Indian hero. I don't understand the story. Which moustache do you mean? Saqlain Mushtaq? Or Mustaq Ahmend? He started it as usual. Macha, we will come back into it. We are going to see an India-Bangladesh preview. Bangladesh just got smashed by Australia. India is smashing Afghanistan and coming into this game. When I saw Bangladesh playing against Australia I felt really sad. Why I felt sad is because, for so many years, they have been in this scheme. I keep talking about India. India of the 90s, I would say. India as a cricketing nation in the 1990s was full of hope. Less with results but full of hope. Robin, you also grew up in the same generation. When I go to Bangladesh, you will also be gone. When I go, you see so much hope in the eyes of every Bangladeshi fan. They are also running the Bangladesh Premier League. Once again, I know Australia took the game away. They were just too good. But Bangladesh just felt like they didn't have anything in their tank. They don't even have ammunition. Rishad Hossain is a fresh breath of air in that. Which we spoke about in the preview. Actually, when I was preparing for the preview, I was looking at it. I was like, What am I going to talk about in Bangladesh? Should I talk positively? What am I going to talk about? There is very little to talk about. I like their leader right now. I think he has a very decent bat. And I think because he is playing so well as a batter, they have given him the leadership. They feel like somebody else is not doing the job very well. For example, when Litton Das had the opportunity to lead this side, it started affecting his batting, I think, a little bit. I don't know if he gave it up or if it was taken away from him. Culturally, I think there is a mindset that is set there. And I think there are a lot of Culturally, there are perhaps a lot of things that are going on that we probably don't understand from the outside. And I think that they need to get out of that if they need to. Or focus on the strengths that their culture brings to be able to perform at the highest level. I don't think they are leaning into that. From the outside, it feels like they are hoping things... They themselves, as a team, are hoping that things go well for them. When you operate as a team and when you operate out of hope as a unit, the chances of you coming off really well and performing really well consistently drop down a lot compared to when you operate out of conviction and belief in a unit, right? Now, for example, in the army, everyone doesn't really care about the bigger picture. Their first focus is their unit. What is that called? I think it's called the unit, right? That one unit, say the regiment. That one regiment. Their focus is that no matter what is happening outside of this regiment, we won't focus. We will give it a macroscopic point of view. But when it comes to our regiment and our unit, it is microscopic. And we will not allow anyone to come into this unit. If they can build that kind of mindset where they protect themselves from the outside noise and focus and build convictions and beliefs within that group that makes them and everyone inside that group believe that we are world champions. We are a contending nation right now. Irrespective of what the world thinks of us,. It's not like there was a united kind of feeling that we were going to, especially in the 70s and 80s. Even in the 1980s, when we actually first won the World Cup, only the team believed that we would win the World Cup. It was out of that conviction that they made everyone start believing in the team. Now, Bangladesh has to do something like that and win a championship that makes people believe in it. Okay, this is a contending nation. That belief hasn't come yet. And that has to start from within. It's not like they don't have the potential. Actually, they do have the potential. The fast bowlers are there. There are some really wily fast bowlers and medium pacers. They have some express fast bowlers, too. To be fair, they have enough ammunition for bowling. But T20 is a batter's sport, basically. I mean, I believe bowlers win the tournament. There is no doubt about that. But if a batter doesn't post a certain amount of runs, if they don't give them a score, they can't defend. Or else, if we know that we are going to bowl first and if we know that our batters will only hit 150 runs, how will we bowl? It's very difficult sometimes to bowl. PDogg, what are your thoughts? He summed it up beautifully. If you look at some of the teams, take Ireland, for example. Look at how much progress they have made. In the last two years, how has the progress been? In the last three years, how has the progress been? You can just see the progress. How is the progress in Afghanistan? Bangladesh beat Pakistan in the 1999 World Cup. That was a big victory for them. After that, there was a slight upset here and there. Then, they won a match against Australia. If you remember, there was a tri-series that was happening. After that, if you look at it, they are winning at home. People are talking about rigged pitches and whatever it is. After that, they went overseas and won a test with New Zealand. Not saying no. After that, collectively, if you see what they have done, it's absolutely zero. If you look at the classical example, the players who are coming in and out of the team. A pool of players. I will tell you. The infrastructure that Bangladesh has, the money they have, the domestic system, and the BPL are amazing . I tried to sign a player for our team, PSL. An England superstar. I don't want to name him. After that, what did he do? Sorry, PDogg, I am not coming. He said, I am getting paid more in BPL. I asked him to repeat. He said Bangladesh Premier League. They are giving you your whole tournament salary for six matches? I asked, What are you even saying? So, what is the most important thing? You have money; you have infrastructure. I will tell you one more thing. Even if Bangladesh and Papua New Guinea play in Bangabandhu Stadium, not a single seat will be left empty. When it comes to a cricket crazy country like this, there is a player called Tanzid Hasan. He has scored around 50 ducks. In four matches, he has scored ducks. If he goes out, after that, Soumya Sarkar will make 50 ducks. If he is dropped, Tanzid will come again. What exactly are you trying to do? Secondly, I don't want to mention players. One player will not even look at the other player. He doesn't even want to have eye contact with the other player. If the other player is here, he won't even sit and eat beside him. He will be here. If the other player comes to the World Cup, I won't play. If he comes to his team, I won't play. This is their attitude. I am repeating myself. They have 4–5 superstars. No one will deny that. If anyone is saying Shakib is not a superstar, Mushfiqur Rahim is not a superstar, and Tamim  Iqbal is not a superstar, In my opinion, I am saying that we have three superstars on all the teams. How are you going to develop the team? What have they developed? I don't understand anything. Bangladesh is a subcontinent team. Let me ask you one question. Other than Shakib Al-Hasan, in the last 10 years, have you seen a spinner, be it a finger spinner or a wrist spinner? Tell me. In fact, our Sridharan Sriram had worked in Bangladesh. You know him very well When he was working, they searched the entire country  but couldn't find a leg spinner. Then they went to every nook and corner, and finally, they broke Rishad Hossain as a new talent. One of the major reasons for that is that wickets are turned very slowly. So, finger spinners are ruling the roost. So, there is no requirement for wrist spin. So, there are not many wrist spinners. But more than that, there is bowling; Fizz is there. a fast bowler, Tanzid Hasan. He is a very good bowler. Shoriful Islam is also a very talented bowler. Shoriful Islam, of course. Unfortunately, he got injured. But again and again, I go back to the same thing. There is no muscle in batting. There is zero in batting. They cannot put any team under pressure. Despite  Shanto scoring and Towhid Hridoy. Those are the two shining rays of light. Anyway, we keep talking about their cricket. Robin, what are your thoughts on the India-Bangladesh game? India's biggest challenge and Bangladesh's biggest challenge is that they will be traveling overnight and playing the game the next day. Should India be wary of looking after certain players? Can India take such a chance in such a game? Because it already looks like India will qualify if they win one more game. Actually, we can protect Bumrah. Because he will want... No? No? You continue. I will tell you after that. Because, especially when it comes to an overnight journey with lactic acid buildup and all of these other scientific aspects, to err on the side of safety, especially in a World Cup tournament, Siraj is bowling well. It's an opportunity for him to sharpen his death-bowling skills. As far as I am concerned, Bumrah is the god of death-bowling. I have very rarely, if ever, seen him get pummeled in or taken for runs in the death. The only memory that comes to mind is Rayudu taking him for runs in one CSK-MI game in Delhi in the lockdown IPL. Other than that, I cannot think of a game where he has dominated in the death. So, for me, I feel you can afford to give him a break. Bring Siraj in. Because Siraj is also bowling beautifully. He will get a feel for what it is like to bowl in the West Indies as well. While Bumrah is actually getting a break. Otherwise, I don't see any other changes, bro. I don't think there is a necessity. It's very interesting. For example, if  India had played against Australia yesterday, If they had beaten  Australia, it would have made sense to take a break. Because you have two games. You can always come back and hit the third game. If something goes here and there, Because it’s T20, you don't know. Because of that, they might not... Sorry, 20... 20, right? Yes. 20, 22, 24. Three games. All three are on different islands. We had a game in the West Indies. We were playing one game in Antigua. Actually, Trinidad and Tobago. We were traveling to St. Kitts and Nevis to play the T20 game. That day was a was a game. We landed in St. Kitts and Nevis. Because of the small aircraft, it was a small island. We didn't get  our bags. Usually, we bring our bags from the airport. If there is a signal, we bring it. We didn't bring our bags. The game got postponed to 12 o'clock. These things can never happen anywhere else in the world. But it happens there. So, it is very, very difficult. Prasanna, what are your thoughts? It is very simple. The way I see it is... How many games do you have? If you include this game, you get two games. To be positive, there are semi-finals and finals. He is going to score 16 overs. Correct? He has been watching the sky for 11 years. So, don't give rest. 16 overs of workload. South Africa did one thing. They took the problem out of the blue and put it in their pants pocket by bringing in Shamsi. Then they dropped Odenil Baartman. The next game, Shamsi went for runs.   Now, Odenil Baartman will come in for the next game. Then, you brought Siraj in and dropped him. He scored 5 for 19. Kuldeep has a bad game. Bumrah has to come up. Why do you have this headache? Bro, one more thing. I am asking you. You bring in Siraj. . He is just rattling the top order. 4 overs, 13 runs, and 5 wickets. Since Bumrah is coming... No, no. I brought Siraj in. Like Kuldeep and Shamsi, he will go for 4 overs and 46 wickets. Because what do you expect from a subcontinent team like Bangladesh? to bat well against spin. That's the bottom-line thing. Everyone knows that. This pitch, North Sound, is one of the best venues to bat in the Caribbean. In the same venue, they played Zampa for 4 overs, 21 runs, and 2 wickets. So, that is exactly what I am talking about. So, I don't want any kind of thing like this. When it comes to that, you are going to have four games. When you want to have four games on a trot to win the World Cup, what you all want is to make sure there is no rest, nothing. You just got four days of your ambition to win the World Cup. I don't see any kind of rest or anything else happening. That is my humble request. There is one thing you have to understand. Siraj didn't get dropped, bro. Siraj has actually been replaced by the perception of horses for courses. He didn't get dropped. You get dropped when your performances are bad. You get replaced when there is another requirement. On that wicket, you could see fast bowlers also in yesterday’s wicket; you could see that Bumrah and Arshdeep were bowling cutters a lot. When you saw the game, anyone who knows the game a little bit knew in the first inning itself that in the second inning, the fast bowlers were going to use cutters. And the slow bowlers are going to try and get wickets. And that's exactly what happened. Akshar was effective. When Jaddu bowled slower through the air, he was more effective. When Bumrah bowled cutters in the first over itself, he was bowling cutters. And so was Arshdeep Singh. That's how he got his wickets. My feeling is that when you have strength and when you are playing a tournament like this and you have to respect Bumrah's age and his actions, His actions put a lot of stress on his body. So, he is like a prized possession. Do you know? Like an antique piece? I shouldn't say that. Like when I say antique piece, antique pieces are really protected, you know? It would be a high-security museum. I am saying it for the value of it. Robin is making a point like this. Siraj is not dropped, but replaced. But now, they feel Rahul Dravid has clearly mentioned in the media that this spin will come into play. There is no other way. The casualty who has to be replaced is Siraj. Now, there is no chance for Siraj to play on a pitch unless it seams around. I don't see any of the venues having that. There is no chance of Siraj coming back. I don't want... You are saying this from a cricketer's perspective. He is right. Bumrah's action is an unorthodox action. The amount of stress he is having on his body. Whenever he gets a chance to rest, I completely agree to it. How do I think? 16 overs. The best medical team has got me. That's where I disagree with you. That's when I stopped with you. Because you are on the inside. If you say to play 16 overs in the full tournament and go to the end, I can understand if you are sitting on the outside and giving that perception. You are on the inside, Pras. When you say that, the viewers will feel like, Oh no. Even Prasanna, someone as knowledgeable as Prasanna, is saying that even when there are back-to-back games in different venues and the lactic acid buildup and physically the stress that one has to take one goes through even on a 45-minute journey in the air, what it does to the body takes a day and a half to recover. And for a person who puts his body through that much stress, you know that for that to even recover, to come back to just the semblance of normalcy, it takes a day and a half. Now, in that process, in that period of time, do you want to put that body through? For example, for 24 balls, he is putting 1.8 times, 2 times, 12 times his body weight through his body, through one part of his body. God forbid, something happens. Then we will repent on the back end. Robin, a lot of cricketers, even ex-cricketers who go on broadcasting, commentary, and opinion, They will also exactly stand by what Prasanna says. Many times, some senior Indian cricketers who are on com-box say, What is the big deal? Only 16 overs. But Prasanna, let me rephrase your question. For example, you are the coach of that team. Let me give you a counter. Jasprit Bumrah is playing. He has played and tweaked something. In this tournament, no one is coming back. In one week, the tournament is over. The tournament is over. Then, will you be ready to lose a player like Bumrah, or will you be conservative? Tell me now. He played in 13 matches in the Indian Premier League. Then, no one will think, right? When India is playing 5 matches, you will think, right? 13 matches. No, no. What you are saying is wrong. Sorry, Robs. What you are saying is wrong. Because, I have put you in that situation. You cannot go back to the past. See, as a person sitting inside the dressing room, you don't have control over IPL. You don't have control. Because you are not running the show. You are running the Indian team. Now, you are sitting there, responsible for 1.5 billion people. Simple. Simple. I have 50 days of tournaments. 50 days of the IPL tournament. Playing 13 matches. Bowling with full intensity. He can go through that. I will ask my medical team, How is his body feeling? I will ask them, okay? 20, 22, and 24, he is playing. What is the amount of work he has done in the Caribbean after landing? Is it on par? Is it okay? Or does he put in more effort? Can his body take the load in 2022–24? Can his body be fresh for the semi-finals and finals? I will only ask my medical team. My medical team gave me a report saying that he has done a lot of progressive work, including the match days. So, he is fit enough to play. I will say, Bumrah, finish it soon. I will be inside. Agreed. If not, you are okay to take the call, right? That's what I am saying. My expertise—technical, tactical, strategy, numbers, coaching—I don't understand about fitness. I want my team badly to win the ICC trophy. I don't want to show my intelligence for no reason. For that, there is a world-class medical team. The world-class medical team says, Sir, he can't play. He is taking a rest. I will immediately listen to their words and rest. Considering his workload, 22-24-26, traveling, I will not take a decision. I will leave it to the experts. But I wanted him to play. Even if he says he is only 99% good to go, I will rest him. Only if they say 100%, I am playing him. I enjoyed this side of you, Prasanna. Thank you. This is beautiful. You were absolutely bang on. And I think what Ashwin and I were saying was also from that perspective. From the perspective of his health. The difference between playing for the Mumbai Indians and playing for the Indians is the value perspective. The value of a Bumrah when he is playing an ICC tournament compared to a value for a Bumrah when he is playing for the IPL, there is no comparison. Bumrah is a prized possession. I am not saying he is not prized among Mumbai Indians. But the value that we will give to a Bumrah in an ICC tournament compared to 15 million people in Mumbai during the IPL versus 1.5 billion people is largely different. Which is why the value goes up. There is one Bumrah in 1.5 billion, versus one Bumrah in 15 million there. So, the value goes up exponentially. That's what I am saying . Every time I play a Vande Mataram song with a lot of effort, it has value. India has to win, at least for that. 100%. Thank God, he didn't sing about the match. That's a relief. There is. When Director Mani Ratnam calls you and says that your program is good, he doesn’t say anything about my song. Wait. Wait. He said you were going to sing for that. The admin has kept an item. Okay, you sing. First, let me give a warning. The loss is not mine. It is for director Mani Ratnam. Now, Bangladesh. You are talking a lot about bowling. What is going to happen in the next match? I am going to sing about Bangladesh's bowling. Why is your head shaking like an MTC bus? Two people are massaging behind me. I am a head coach. Where are you working as a head coach? You will see that on TV. Let me sing. I have to give a reply to Mani Ratnam. Now, I will sing about Bangladesh. I will sing about Bangladesh. I will call it Pangaali-desh. I won't call it Bangladesh. Now, listen to this song. What a beautiful song with beautiful lyrics! Are you a dream to give a 4? Are you ready to give six? How many times did you beat me but didn't get tired? Will 200 total be enough? Will you please get all out for 100 runs? And then we will dance the Naagin step. Are you a dream to give a 4? Are you ready to give six? How many times did you beat me but didn't get tired? Singer Srinivas will be proud. How are you even training your voice for this? Do you gargle with pebbles in your mouth? Robin, how was the song? Tell honestly, Vera level, bro. But I want to know: what are you doing with your voice? I can sing in any voice. Even your voice. Did you see the Venkatesh Prasad video? Sing in his voice next. The next video, for sure. We have a 98-2 edge over India. A tweet from Lawrence Booth has come from the admin. As long as Bumrah stays fit, India is in this World Cup. I am still not convinced Virat Kohli is worth this place. Mind you. I am saying, Just look at your backside. Sorry to interrupt. Which place is he from? England. He is a senior journalist in England. I am saying that there is no mirror to look at our backs. He is coming. He is coming. He is coming with a knife, like Vattakudi Iraniyan. If you get caught in the semi-finals, Virat Kohli will cut you into pieces. What I want is that someone should take this and show it to Virat. What do you say, Robin? There is no need to show. He is going to see it. We should thank Lawrence Booth. He is going to see this. He is going to close all the STD and ISD booths. Don't worry. He is going to see this 100%. He is going to hit runs 100% after seeing this. I just want to shut down the noise. I have seen it all over the world. 101 out of 100 people in the world of cricket are jealous of India. They are jealous. So, every chance they get to have a target, they do. I have seen on social media that if you talk about Indian players or superstars, you will get a lot of traction. I think he has recently written a book on Bazball. I think that's why they are doing this. We should be proud of our country. We should have pride. 100 years ago, they used to set the narrative for us. We shouldn't allow it anymore. Anyway, I think this is one of the greatest discussions I have enjoyed this season, Robs. I don't want to give it more thought. We have ignored it. Finally, India vs. Bangladesh If I talk about this, I will use many words, bro.  So avoid it. It's okay. You can talk for 50 seconds. You can talk; it's okay. You have to hear a lot of beeps if I talk like this. There are people to put beeps. You can talk if you want. Coming back to the discussion: India vs. Bangladesh. It was a match in North Sound. Flat wicket. Australia had a great game. It didn't even turn a little bit. Is there any chance for Bangladesh? What is your percentage for India vs. Bangladesh? Odds. I would say not even the smallest of odds. I wouldn't give even 98 to... I would say 99-1 out of respect for the game. Man-to-man. Not even close, bro. Even compared to Afghanistan, man-to-man. Not even close. Somewhere, you could say Afghanistan, in its own right, has decent players in different positions. It's not even close here, bro. I know the USA has done well. But the top 3–4 teams and maybe the 5th team, the West Indies, , have done well in this format. Other than that, I feel we have gulfed with the rest of the nations. PDogg, What is your opinion on the India vs. Bangladesh match? See, honestly speaking, they don't have firepower for anything. Neither in batting nor in bowling. What would you normally do? What would you do as a coach for that team? You would say, I will put you in a fixed spot. No, I wouldn't do that. I wouldn't put you in a spot because no one can do anything against anyone. No, what they should do is... Last time, we spoke about... Rohit Sharma's match-ups against left-arm fast bowlers. Again, Rohit Sharma got out with a left-arm fast bowl. Mustafizur is not a strike bowler in powerplay. So, what I will do is, since there is no big turn, I will top Mehdi Hassan and get another left-arm fast bowler, Shoriful Islam. Shoriful Islam is injured. He is recovering now. He is recovered. Unfortunately, Taskin is also a senior. Tanzid is playing at a very high level, honestly speaking. He is playing very well. Fizz, Shakib Al Hassan, Rishad, and Ashwin have already said in the Chennai Preview that he is playing very well. Shakib Al Hasan is also playing. The reason why they played Mehdi Hasan today is, see, it's quite natural. There are two opening batters. They want to stifle him with two left-handers. When it didn't work out, they had genuine problems with both of these guys. The first 10 balls are against the left-arm team. So, what I will do is, not to make you laugh, there is an opening batter called Tanzid Hasan. There is an opening batter called Soumya Sarkar. I will drop both of them and play with 10 batters. Because, in fantasy, if you hit zero, it's minus 5. If you pick him, every match is not an ordinary egg; it's a big duck egg. So, jokes apart, what I will try and do is try and open with Jakar Ali. Bottom line. When they ask you, do you have any last wishes before you hang up? They will ask you to say it. They are going to make him wear a black t-shirt. So, what is your last wish? Make Jakar Ali come as an opener. Let him go for a spin fearlessly. That is what I will do. This opening batting is not happening at all. So, that is the only thing I will do. I will bring in Shoriful Islam in place of Mehdi Hasan. I will open with Jakar Ali. Without any doubt, I will drop this guy, Tanzid Hasan. I will give you 2% of the toss. If Robin gives you 1%, will you give him 2% of the toss? Robin is a very good person. He is correct in what he says. I am a bit weak-minded. That's the problem. We will win the toss and come back to it. Afghanistan, unfortunately, lost the toss. In Bangladesh, if you want to win the toss, you have to bat. But if you hit 140, you will not get a chance. You have to try and see how you get it to 165. Do some experiments. If you hit 165, you can lose with respect. There is no chance. I don't see India making any changes. Unless and until Robin points out resting Siraj, it is going to be a 98-2 hammering. Resting Bumrah. With that, our experts are saying that the preview is over for the India vs. Bangladesh match. This preview was brought to you by BKT Tires.\", metadata={'source': 'tRJzS3dCoAQ', 'title': 'India vs Bangladesh Preview | Super 8s | T20 World Cup | Judgement Day | Ashwin | PDogg | Uthappa', 'description': 'Unknown', 'view_count': 55712, 'thumbnail_url': 'https://i.ytimg.com/vi/tRJzS3dCoAQ/hq720.jpg', 'publish_date': '2024-06-21 00:00:00', 'length': 1988, 'author': 'Ashwin'})]"
      ]
     },
     "execution_count": 12,
     "metadata": {},
     "output_type": "execute_result"
    }
   ],
   "source": [
    "loadvid"
   ]
  },
  {
   "cell_type": "code",
   "execution_count": 21,
   "metadata": {},
   "outputs": [],
   "source": [
    "chunkdocs = RecursiveCharacterTextSplitter(chunk_size=2500,chunk_overlap=0)"
   ]
  },
  {
   "cell_type": "code",
   "execution_count": 22,
   "metadata": {},
   "outputs": [],
   "source": [
    "splitdocs = chunkdocs.split_documents(loadvid)"
   ]
  },
  {
   "cell_type": "code",
   "execution_count": 23,
   "metadata": {},
   "outputs": [
    {
     "data": {
      "text/plain": [
       "12"
      ]
     },
     "execution_count": 23,
     "metadata": {},
     "output_type": "execute_result"
    }
   ],
   "source": [
    "len(splitdocs)"
   ]
  },
  {
   "cell_type": "code",
   "execution_count": 15,
   "metadata": {},
   "outputs": [],
   "source": [
    "groqllm2 = ChatGroq(model=\"llama3-70B-8192\",temperature=1)"
   ]
  },
  {
   "cell_type": "code",
   "execution_count": 16,
   "metadata": {},
   "outputs": [],
   "source": [
    "bigytchain = load_summarize_chain(groqllm2,chain_type=\"map_reduce\",verbose=True)"
   ]
  },
  {
   "cell_type": "code",
   "execution_count": 24,
   "metadata": {},
   "outputs": [
    {
     "name": "stdout",
     "output_type": "stream",
     "text": [
      "\n",
      "\n",
      "\u001b[1m> Entering new MapReduceDocumentsChain chain...\u001b[0m\n",
      "\n",
      "\n",
      "\u001b[1m> Entering new LLMChain chain...\u001b[0m\n",
      "Prompt after formatting:\n",
      "\u001b[32;1m\u001b[1;3mWrite a concise summary of the following:\n",
      "\n",
      "\n",
      "\"Hello, everyone. Welcome back to Judgement Day. Brought to you by BKT Tires. As always, PDogg has started talking before the show starts. So, we are starting off with a laugh. And of course, it is a time when Indian fans smile a lot. The Indian juggernaut keeps rolling on. We shouldn't say that they plundered Afghanistan because it was never a match, as PDogg had said earlier. You can say that, bro. Huh? You can say that. No, he only said that it was 92–8 percent. Many people have commented that PDogg hasn't given a reason for that 8 percent till the end. That's what many people have said. Because I worked with 4, 5, or 6 people in PSL, SA League, and all. I said it out of affection. Otherwise, I would have given it minus 8 percent. I gave it 8 percent out of pity because there were some brothers who were not born with me . If you criticize that too, the next edge will be different. We were discussing this with the admin. Many of your YouTube comments from Prasanna's fans are badgering him. Are they a group that you created, or has it come on its own? Why are you getting me humiliated like this? I am getting insults from all sides. Fans are only for legends like you. When I look at Robin's moustache, I feel like singing a song for him. sings Macha Meesai from Dhill, a Vidyasagar classic. Ask him. What does your wife think of the moustache, Robin? What is the reason? I did it last night, bro. I was trimming my beard. I wanted to do it in a little bit of a Coorgi style. When I came out, she was like, What are you looking like when you are a South Indian actor? So, I said, Yeah, that was the look I was actually going for. I am saying this confidently. All wives will say the same thing if we do it like this. But it looks good. It looks superb. It looks decent, right? It doesn't look decent. It looks superb. That's what South Indian heroes do. We shouldn’t stereotype. If you have a moustache, you are a South Indian hero. If you have an Australian moustache, you are a Mohamba. If we have it, we become a South Indian hero. I don't understand the story. Which moustache do you mean? Saqlain Mushtaq? Or Mustaq Ahmend? He started it as usual. Macha, we will come back into it. We are going to see an India-Bangladesh preview. Bangladesh just got smashed by Australia. India is smashing Afghanistan and coming into this game. When I saw Bangladesh playing against Australia I felt really sad. Why I felt sad is because, for so many years, they have been in this scheme. I\"\n",
      "\n",
      "\n",
      "CONCISE SUMMARY:\u001b[0m\n",
      "Prompt after formatting:\n",
      "\u001b[32;1m\u001b[1;3mWrite a concise summary of the following:\n",
      "\n",
      "\n",
      "\"keep talking about India. India of the 90s, I would say. India as a cricketing nation in the 1990s was full of hope. Less with results but full of hope. Robin, you also grew up in the same generation. When I go to Bangladesh, you will also be gone. When I go, you see so much hope in the eyes of every Bangladeshi fan. They are also running the Bangladesh Premier League. Once again, I know Australia took the game away. They were just too good. But Bangladesh just felt like they didn't have anything in their tank. They don't even have ammunition. Rishad Hossain is a fresh breath of air in that. Which we spoke about in the preview. Actually, when I was preparing for the preview, I was looking at it. I was like, What am I going to talk about in Bangladesh? Should I talk positively? What am I going to talk about? There is very little to talk about. I like their leader right now. I think he has a very decent bat. And I think because he is playing so well as a batter, they have given him the leadership. They feel like somebody else is not doing the job very well. For example, when Litton Das had the opportunity to lead this side, it started affecting his batting, I think, a little bit. I don't know if he gave it up or if it was taken away from him. Culturally, I think there is a mindset that is set there. And I think there are a lot of Culturally, there are perhaps a lot of things that are going on that we probably don't understand from the outside. And I think that they need to get out of that if they need to. Or focus on the strengths that their culture brings to be able to perform at the highest level. I don't think they are leaning into that. From the outside, it feels like they are hoping things... They themselves, as a team, are hoping that things go well for them. When you operate as a team and when you operate out of hope as a unit, the chances of you coming off really well and performing really well consistently drop down a lot compared to when you operate out of conviction and belief in a unit, right? Now, for example, in the army, everyone doesn't really care about the bigger picture. Their first focus is their unit. What is that called? I think it's called the unit, right? That one unit, say the regiment. That one regiment. Their focus is that no matter what is happening outside of this regiment, we won't focus. We will give it a macroscopic point of view. But when it comes to our regiment and our unit, it is microscopic. And we will not allow anyone\"\n",
      "\n",
      "\n",
      "CONCISE SUMMARY:\u001b[0m\n",
      "Prompt after formatting:\n",
      "\u001b[32;1m\u001b[1;3mWrite a concise summary of the following:\n",
      "\n",
      "\n",
      "\"to come into this unit. If they can build that kind of mindset where they protect themselves from the outside noise and focus and build convictions and beliefs within that group that makes them and everyone inside that group believe that we are world champions. We are a contending nation right now. Irrespective of what the world thinks of us,. It's not like there was a united kind of feeling that we were going to, especially in the 70s and 80s. Even in the 1980s, when we actually first won the World Cup, only the team believed that we would win the World Cup. It was out of that conviction that they made everyone start believing in the team. Now, Bangladesh has to do something like that and win a championship that makes people believe in it. Okay, this is a contending nation. That belief hasn't come yet. And that has to start from within. It's not like they don't have the potential. Actually, they do have the potential. The fast bowlers are there. There are some really wily fast bowlers and medium pacers. They have some express fast bowlers, too. To be fair, they have enough ammunition for bowling. But T20 is a batter's sport, basically. I mean, I believe bowlers win the tournament. There is no doubt about that. But if a batter doesn't post a certain amount of runs, if they don't give them a score, they can't defend. Or else, if we know that we are going to bowl first and if we know that our batters will only hit 150 runs, how will we bowl? It's very difficult sometimes to bowl. PDogg, what are your thoughts? He summed it up beautifully. If you look at some of the teams, take Ireland, for example. Look at how much progress they have made. In the last two years, how has the progress been? In the last three years, how has the progress been? You can just see the progress. How is the progress in Afghanistan? Bangladesh beat Pakistan in the 1999 World Cup. That was a big victory for them. After that, there was a slight upset here and there. Then, they won a match against Australia. If you remember, there was a tri-series that was happening. After that, if you look at it, they are winning at home. People are talking about rigged pitches and whatever it is. After that, they went overseas and won a test with New Zealand. Not saying no. After that, collectively, if you see what they have done, it's absolutely zero. If you look at the classical example, the players who are coming in and out of the team. A pool of players. I will tell you. The infrastructure that\"\n",
      "\n",
      "\n",
      "CONCISE SUMMARY:\u001b[0m\n",
      "Prompt after formatting:\n",
      "\u001b[32;1m\u001b[1;3mWrite a concise summary of the following:\n",
      "\n",
      "\n",
      "\"Bangladesh has, the money they have, the domestic system, and the BPL are amazing . I tried to sign a player for our team, PSL. An England superstar. I don't want to name him. After that, what did he do? Sorry, PDogg, I am not coming. He said, I am getting paid more in BPL. I asked him to repeat. He said Bangladesh Premier League. They are giving you your whole tournament salary for six matches? I asked, What are you even saying? So, what is the most important thing? You have money; you have infrastructure. I will tell you one more thing. Even if Bangladesh and Papua New Guinea play in Bangabandhu Stadium, not a single seat will be left empty. When it comes to a cricket crazy country like this, there is a player called Tanzid Hasan. He has scored around 50 ducks. In four matches, he has scored ducks. If he goes out, after that, Soumya Sarkar will make 50 ducks. If he is dropped, Tanzid will come again. What exactly are you trying to do? Secondly, I don't want to mention players. One player will not even look at the other player. He doesn't even want to have eye contact with the other player. If the other player is here, he won't even sit and eat beside him. He will be here. If the other player comes to the World Cup, I won't play. If he comes to his team, I won't play. This is their attitude. I am repeating myself. They have 4–5 superstars. No one will deny that. If anyone is saying Shakib is not a superstar, Mushfiqur Rahim is not a superstar, and Tamim  Iqbal is not a superstar, In my opinion, I am saying that we have three superstars on all the teams. How are you going to develop the team? What have they developed? I don't understand anything. Bangladesh is a subcontinent team. Let me ask you one question. Other than Shakib Al-Hasan, in the last 10 years, have you seen a spinner, be it a finger spinner or a wrist spinner? Tell me. In fact, our Sridharan Sriram had worked in Bangladesh. You know him very well When he was working, they searched the entire country  but couldn't find a leg spinner. Then they went to every nook and corner, and finally, they broke Rishad Hossain as a new talent. One of the major reasons for that is that wickets are turned very slowly. So, finger spinners are ruling the roost. So, there is no requirement for wrist spin. So, there are not many wrist spinners. But more than that, there is bowling; Fizz is there. a fast bowler, Tanzid Hasan. He is a very good bowler. Shoriful Islam is also a very talented bowler. Shoriful Islam,\"\n",
      "\n",
      "\n",
      "CONCISE SUMMARY:\u001b[0m\n",
      "Prompt after formatting:\n",
      "\u001b[32;1m\u001b[1;3mWrite a concise summary of the following:\n",
      "\n",
      "\n",
      "\"of course. Unfortunately, he got injured. But again and again, I go back to the same thing. There is no muscle in batting. There is zero in batting. They cannot put any team under pressure. Despite  Shanto scoring and Towhid Hridoy. Those are the two shining rays of light. Anyway, we keep talking about their cricket. Robin, what are your thoughts on the India-Bangladesh game? India's biggest challenge and Bangladesh's biggest challenge is that they will be traveling overnight and playing the game the next day. Should India be wary of looking after certain players? Can India take such a chance in such a game? Because it already looks like India will qualify if they win one more game. Actually, we can protect Bumrah. Because he will want... No? No? You continue. I will tell you after that. Because, especially when it comes to an overnight journey with lactic acid buildup and all of these other scientific aspects, to err on the side of safety, especially in a World Cup tournament, Siraj is bowling well. It's an opportunity for him to sharpen his death-bowling skills. As far as I am concerned, Bumrah is the god of death-bowling. I have very rarely, if ever, seen him get pummeled in or taken for runs in the death. The only memory that comes to mind is Rayudu taking him for runs in one CSK-MI game in Delhi in the lockdown IPL. Other than that, I cannot think of a game where he has dominated in the death. So, for me, I feel you can afford to give him a break. Bring Siraj in. Because Siraj is also bowling beautifully. He will get a feel for what it is like to bowl in the West Indies as well. While Bumrah is actually getting a break. Otherwise, I don't see any other changes, bro. I don't think there is a necessity. It's very interesting. For example, if  India had played against Australia yesterday, If they had beaten  Australia, it would have made sense to take a break. Because you have two games. You can always come back and hit the third game. If something goes here and there, Because it’s T20, you don't know. Because of that, they might not... Sorry, 20... 20, right? Yes. 20, 22, 24. Three games. All three are on different islands. We had a game in the West Indies. We were playing one game in Antigua. Actually, Trinidad and Tobago. We were traveling to St. Kitts and Nevis to play the T20 game. That day was a was a game. We landed in St. Kitts and Nevis. Because of the small aircraft, it was a small island. We didn't get  our bags. Usually, we bring our bags\"\n",
      "\n",
      "\n",
      "CONCISE SUMMARY:\u001b[0m\n",
      "\n",
      "\u001b[1m> Finished chain.\u001b[0m\n"
     ]
    },
    {
     "name": "stderr",
     "output_type": "stream",
     "text": [
      "c:\\Users\\USER\\AppData\\Local\\Programs\\Python\\Python39\\lib\\site-packages\\tqdm\\auto.py:21: TqdmWarning: IProgress not found. Please update jupyter and ipywidgets. See https://ipywidgets.readthedocs.io/en/stable/user_install.html\n",
      "  from .autonotebook import tqdm as notebook_tqdm\n"
     ]
    },
    {
     "name": "stdout",
     "output_type": "stream",
     "text": [
      "\n",
      "\n",
      "\u001b[1m> Entering new LLMChain chain...\u001b[0m\n",
      "Prompt after formatting:\n",
      "\u001b[32;1m\u001b[1;3mWrite a concise summary of the following:\n",
      "\n",
      "\n",
      "\"In this episode of \"Judgement Day\" sponsored by BKT Tires, the hosts, PDogg and Robin, engage in banter and humor as they discuss cricket matches, particularly India's dominant performance against Afghanistan. They also share lighthearted moments, including Robin's new moustache, which he claims is inspired by South Indian heroes. The hosts then transition to previewing the upcoming India-Bangladesh match, with Bangladesh having just suffered a crushing defeat to Australia.\n",
      "\n",
      "The speaker reminisces about India's cricket team in the 1990s, which was full of hope despite lacking results. They compare this to Bangladesh's current cricket team, which despite having a promising leader and talented players, lacks conviction and operates on hope rather than belief and unity. The speaker suggests that Bangladesh needs to focus on its strengths and overcome its cultural mindset to perform consistently at a high level.\n",
      "\n",
      "The speaker emphasizes the importance of Bangladesh's cricket team developing a strong mindset, conviction, and belief in themselves to overcome external doubts and win championships. They have the potential, especially with their fast bowlers, but need to improve their batting to post competitive scores. The team needs to focus on internal growth and progress, like other successful teams, rather than relying on occasional upsets or rigged pitches.\n",
      "\n",
      "The speaker praises Bangladesh's cricket infrastructure, domestic system, and Bangladesh Premier League (BPL), citing a story where an England superstar chose to play in BPL over a Pakistan Super League (PSL) team due to better pay. The speaker criticizes the attitude of some Bangladeshi players, saying they are not team players and are more concerned with individual interests. The speaker also questions the development of the team, citing the lack of spinners in the last 10 years, and praises a few talented Bangladeshi bowlers.\n",
      "\n",
      "The speaker discusses the India-Bangladesh cricket match, lamenting Bangladesh's lack of batting muscle and praising Shanto and Towhid Hridoy as bright spots. They then turn to India's strategy, suggesting that Jasprit Bumrah could be rested and replaced by Mohammad Siraj, who is bowling well, to allow Bumrah to recover from the overnight journey and to give Siraj experience in the West Indies.\"\n",
      "\n",
      "\n",
      "CONCISE SUMMARY:\u001b[0m\n",
      "\n",
      "\u001b[1m> Finished chain.\u001b[0m\n",
      "\n",
      "\u001b[1m> Finished chain.\u001b[0m\n"
     ]
    },
    {
     "data": {
      "text/plain": [
       "'The hosts of \"Judgement Day\" discuss India\\'s cricket matches, including their dominant performance against Afghanistan and upcoming match against Bangladesh. They analyze Bangladesh\\'s team, suggesting they need to develop a strong mindset, conviction, and belief in themselves to overcome external doubts and win championships. The hosts praise Bangladesh\\'s cricket infrastructure and domestic system but criticize the attitude of some players, question the development of the team, and discuss the India-Bangladesh match, highlighting Bangladesh\\'s lack of batting muscle and India\\'s strategy.'"
      ]
     },
     "execution_count": 24,
     "metadata": {},
     "output_type": "execute_result"
    }
   ],
   "source": [
    "bigytchain.run(splitdocs[:5])"
   ]
  },
  {
   "cell_type": "markdown",
   "metadata": {},
   "source": [
    "It gave the summarization of the yt video that I gave. It was a long video, was about 33 min. Process followed here is the video documents are converted into chunks and the chain type will summarize these chunks first and after it will give the summarization of the summarization, because of map_reduce chain type. But the main thing is I need to split up the documents into chunks. The higher the value of chunks the no of docs will be decreased."
   ]
  }
 ],
 "metadata": {
  "kernelspec": {
   "display_name": "Python 3",
   "language": "python",
   "name": "python3"
  },
  "language_info": {
   "codemirror_mode": {
    "name": "ipython",
    "version": 3
   },
   "file_extension": ".py",
   "mimetype": "text/x-python",
   "name": "python",
   "nbconvert_exporter": "python",
   "pygments_lexer": "ipython3",
   "version": "3.9.6"
  }
 },
 "nbformat": 4,
 "nbformat_minor": 2
}

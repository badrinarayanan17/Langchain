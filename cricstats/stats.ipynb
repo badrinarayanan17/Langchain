{
 "cells": [
  {
   "cell_type": "markdown",
   "metadata": {},
   "source": [
    "Building a RAG system to retrieve cricket stats from cricbuzz website"
   ]
  },
  {
   "cell_type": "code",
   "execution_count": 1,
   "metadata": {},
   "outputs": [],
   "source": [
    "from langchain.document_loaders import WebBaseLoader # For loading from web\n",
    "from langchain_groq import ChatGroq # Inference Engine\n",
    "from dotenv import load_dotenv # For env\n",
    "from langchain.chains.question_answering import load_qa_chain # For Q&A\n",
    "import os"
   ]
  },
  {
   "cell_type": "markdown",
   "metadata": {},
   "source": [
    "Fetching the data from cricbuzz site"
   ]
  },
  {
   "cell_type": "code",
   "execution_count": 2,
   "metadata": {},
   "outputs": [],
   "source": [
    "statsdata = WebBaseLoader(web_path = \"https://www.cricbuzz.com/cricket-series/7476/icc-mens-t20-world-cup-2024/stats\")"
   ]
  },
  {
   "cell_type": "code",
   "execution_count": 3,
   "metadata": {},
   "outputs": [],
   "source": [
    "loader = statsdata.load()"
   ]
  },
  {
   "cell_type": "markdown",
   "metadata": {},
   "source": [
    "Loading the extracted data"
   ]
  },
  {
   "cell_type": "code",
   "execution_count": 4,
   "metadata": {},
   "outputs": [
    {
     "data": {
      "text/plain": [
       "[Document(page_content='\\n ICC Mens T20 World Cup 2024 Statistics | Cricbuzz.com  ✖Live ScoresScheduleArchivesNewsAll Stories  Premium Editorials Latest NewsTopicsSpotlightOpinionsSpecialsStats & AnalysisInterviewsLive BlogsHarsha BhogleSeries  ICC Mens T20 World Cup 2024 Indian Premier League 2024 Balkan Cup 2020 India tour of Zimbabwe, 2024 T20 Blast 2024 Major League Cricket 2024 The Hundred Mens Competition 2024 West Indies tour of England, 2024 South Africa Women tour of India, 2024 Womens Asia Cup T20, 2024 All Series »Teams   Test Teams India Afghanistan Ireland Pakistan Australia Sri Lanka Bangladesh England West Indies South Africa Zimbabwe New Zealand   Associate Malaysia Nepal Germany Namibia Denmark Singapore Papua New Guinea Kuwait Vanuatu Jersey Oman Fiji   More... Videos  All Videos Categories Playlists   RankingsICC Rankings - MenICC Rankings - Women More World Test Championship World Cup Super League Photos Mobile AppsCareersContact Us  {{premiumScreenName}}           ✖                {{suggest.tag}}         Search for “”         SEARCH         My Account Sign Out MATCHESRSA vs IND - PreviewINDW vs RSAW - StumpsIND vs ENG - IND WonSLW vs WIW - WIW WonAFG vs RSA - RSA WonAllLive NowTodayINTERNATIONALICC Mens T20 World Cup 2024Afghanistan vs South AfricaSemi Final 1India vs EnglandSemi Final 2South Africa vs IndiaFinalSerbia tour of Slovenia, 2024Slovenia vs Serbia1st T20ISlovenia vs Serbia2nd T20ISlovenia vs Serbia3rd T20IKenya Quadrangular Cup 2024Zambia vs Kenya1st MatchMalawi vs Rwanda2nd MatchMalawi vs Zambia3rd MatchKenya vs Rwanda4th MatchKenya vs Malawi5th MatchRwanda vs Zambia6th MatchDOMESTICCounty Division 1Lancashire vs Nottinghamshire43rd MatchHampshire vs Kent42nd MatchDurham vs Worcestershire41st MatchSurrey vs Essex45th MatchSomerset vs Warwickshire44th MatchCounty Division 2Northamptonshire vs Sussex36th MatchLeicestershire vs Middlesex35th MatchGlamorgan vs Gloucestershire34th MatchDerbyshire vs Yorkshire33rd MatchSL U-19 tour of ENG, 2024Sri Lanka U19 vs England U191st Youth ODIWOMENIndia Women v South Africa Women, 2024India Women vs South Africa WomenOne-off TestSri Lanka Women v West Indies WomenSri Lanka Women vs West Indies Women3rd T20IENGW v NZW, 2024England Women vs New Zealand Women2nd ODI  ICC Mens T20 World Cup 2024   55 T20s   .  Jun 01  - Jun 29   Home Schedule & Results News Videos Points Table Squads  Specials   2024\\xa0WCT20\\xa0Timeline Wickets Zone Boundary Tracker History   Photos Stats Venues     Batting  Most Runs   Highest Scores   Best Batting Average   Best Batting Strike Rate   Most Hundreds   Most Fifties   Most Fours   Most Sixes   Most Nineties  Bowling  Most Wickets   Best Bowling Average   Best Bowling   Most 5 Wickets Haul   Best Economy   Best Bowling Strike Rate             Player Matches Inns Runs Avg Sr 4s 6s     1 Rahmanullah Gurbaz 8 8 281 35.12 124.34 18 16   2 Travis Head 7 7 255 42.50 158.39 26 15   3 Rohit Sharma 7 7 248 41.33 155.97 22 15   4 Ibrahim Zadran 8 8 231 28.88 107.44 25 4   5 Nicholas Pooran 7 7 228 38.00 146.15 15 17   6 Andries Gous 6 6 219 43.80 151.03 20 11   7 Jos Buttler 8 7 214 42.80 158.52 22 10   8 Quinton de Kock 8 8 204 25.50 143.66 17 12   9 Suryakumar Yadav 7 7 196 32.67 137.06 15 10   10 Philip Salt 8 7 188 37.60 159.32 16 10   11 David Warner 7 7 178 29.67 139.06 17 9   12 Rishabh Pant 7 7 171 28.50 129.55 19 6   13 Marcus Stoinis 7 5 169 42.25 164.08 14 10   14 Aaron Jones 6 6 162 40.50 135.00 8 14   15 Towhid Hridoy 7 7 153 21.86 128.57 9 8        We use cookies to improve your experience on our site and to show you non-personalized ads. Find out more in our privacy policy and cookie policyOKMOBILE SITE & APPSm.cricbuzz.comAndroidiOSFOLLOW US ONfacebooktwitteryoutubePinterestCOMPANYCareersAdvertisePrivacy PolicyTerms of UseCricbuzz TV AdsPrivacy Preferences© 2024 Cricbuzz.com, Times Internet Limited. All rights reserved | The Times of India | Navbharat TimesMove to top ', metadata={'source': 'https://www.cricbuzz.com/cricket-series/7476/icc-mens-t20-world-cup-2024/stats', 'title': 'ICC Mens T20 World Cup 2024 Statistics | Cricbuzz.com', 'description': 'Live statistics of the ICC Mens T20 World Cup 2024 including leading run scorers, top wicket takers, best averages etc on Cricbuzz.com', 'language': 'en'})]"
      ]
     },
     "execution_count": 4,
     "metadata": {},
     "output_type": "execute_result"
    }
   ],
   "source": [
    "loader"
   ]
  },
  {
   "cell_type": "markdown",
   "metadata": {},
   "source": [
    "It fetched the data from the cricbuzz site, let's see how things gonna move."
   ]
  },
  {
   "cell_type": "code",
   "execution_count": 5,
   "metadata": {},
   "outputs": [
    {
     "data": {
      "text/plain": [
       "1"
      ]
     },
     "execution_count": 5,
     "metadata": {},
     "output_type": "execute_result"
    }
   ],
   "source": [
    "len(loader)"
   ]
  },
  {
   "cell_type": "markdown",
   "metadata": {},
   "source": [
    "Because of paginations, it is difficult to extract all the data from the site. Will look into it. Since the stats api in cricbuzz has no paginations, it will extract all the features from it."
   ]
  },
  {
   "cell_type": "markdown",
   "metadata": {},
   "source": [
    "Instancing the model"
   ]
  },
  {
   "cell_type": "code",
   "execution_count": 6,
   "metadata": {},
   "outputs": [],
   "source": [
    "groqllm = ChatGroq(model=\"llama3-8b-8192\",temperature=0)"
   ]
  },
  {
   "cell_type": "code",
   "execution_count": 18,
   "metadata": {},
   "outputs": [],
   "source": [
    "query = \"Which indian players are there in highest run scorers\""
   ]
  },
  {
   "cell_type": "code",
   "execution_count": 19,
   "metadata": {},
   "outputs": [],
   "source": [
    "chain = load_qa_chain(groqllm,chain_type='stuff',verbose=True)"
   ]
  },
  {
   "cell_type": "code",
   "execution_count": 20,
   "metadata": {},
   "outputs": [
    {
     "name": "stdout",
     "output_type": "stream",
     "text": [
      "\n",
      "\n",
      "\u001b[1m> Entering new StuffDocumentsChain chain...\u001b[0m\n",
      "\n",
      "\n",
      "\u001b[1m> Entering new LLMChain chain...\u001b[0m\n",
      "Prompt after formatting:\n",
      "\u001b[32;1m\u001b[1;3mSystem: Use the following pieces of context to answer the user's question. \n",
      "If you don't know the answer, just say that you don't know, don't try to make up an answer.\n",
      "----------------\n",
      "\n",
      " ICC Mens T20 World Cup 2024 Statistics | Cricbuzz.com  ✖Live ScoresScheduleArchivesNewsAll Stories  Premium Editorials Latest NewsTopicsSpotlightOpinionsSpecialsStats & AnalysisInterviewsLive BlogsHarsha BhogleSeries  ICC Mens T20 World Cup 2024 Indian Premier League 2024 Balkan Cup 2020 India tour of Zimbabwe, 2024 T20 Blast 2024 Major League Cricket 2024 The Hundred Mens Competition 2024 West Indies tour of England, 2024 South Africa Women tour of India, 2024 Womens Asia Cup T20, 2024 All Series »Teams   Test Teams India Afghanistan Ireland Pakistan Australia Sri Lanka Bangladesh England West Indies South Africa Zimbabwe New Zealand   Associate Malaysia Nepal Germany Namibia Denmark Singapore Papua New Guinea Kuwait Vanuatu Jersey Oman Fiji   More... Videos  All Videos Categories Playlists   RankingsICC Rankings - MenICC Rankings - Women More World Test Championship World Cup Super League Photos Mobile AppsCareersContact Us  {{premiumScreenName}}           ✖                {{suggest.tag}}         Search for “”         SEARCH         My Account Sign Out MATCHESRSA vs IND - PreviewINDW vs RSAW - StumpsIND vs ENG - IND WonSLW vs WIW - WIW WonAFG vs RSA - RSA WonAllLive NowTodayINTERNATIONALICC Mens T20 World Cup 2024Afghanistan vs South AfricaSemi Final 1India vs EnglandSemi Final 2South Africa vs IndiaFinalSerbia tour of Slovenia, 2024Slovenia vs Serbia1st T20ISlovenia vs Serbia2nd T20ISlovenia vs Serbia3rd T20IKenya Quadrangular Cup 2024Zambia vs Kenya1st MatchMalawi vs Rwanda2nd MatchMalawi vs Zambia3rd MatchKenya vs Rwanda4th MatchKenya vs Malawi5th MatchRwanda vs Zambia6th MatchDOMESTICCounty Division 1Lancashire vs Nottinghamshire43rd MatchHampshire vs Kent42nd MatchDurham vs Worcestershire41st MatchSurrey vs Essex45th MatchSomerset vs Warwickshire44th MatchCounty Division 2Northamptonshire vs Sussex36th MatchLeicestershire vs Middlesex35th MatchGlamorgan vs Gloucestershire34th MatchDerbyshire vs Yorkshire33rd MatchSL U-19 tour of ENG, 2024Sri Lanka U19 vs England U191st Youth ODIWOMENIndia Women v South Africa Women, 2024India Women vs South Africa WomenOne-off TestSri Lanka Women v West Indies WomenSri Lanka Women vs West Indies Women3rd T20IENGW v NZW, 2024England Women vs New Zealand Women2nd ODI  ICC Mens T20 World Cup 2024   55 T20s   .  Jun 01  - Jun 29   Home Schedule & Results News Videos Points Table Squads  Specials   2024 WCT20 Timeline Wickets Zone Boundary Tracker History   Photos Stats Venues     Batting  Most Runs   Highest Scores   Best Batting Average   Best Batting Strike Rate   Most Hundreds   Most Fifties   Most Fours   Most Sixes   Most Nineties  Bowling  Most Wickets   Best Bowling Average   Best Bowling   Most 5 Wickets Haul   Best Economy   Best Bowling Strike Rate             Player Matches Inns Runs Avg Sr 4s 6s     1 Rahmanullah Gurbaz 8 8 281 35.12 124.34 18 16   2 Travis Head 7 7 255 42.50 158.39 26 15   3 Rohit Sharma 7 7 248 41.33 155.97 22 15   4 Ibrahim Zadran 8 8 231 28.88 107.44 25 4   5 Nicholas Pooran 7 7 228 38.00 146.15 15 17   6 Andries Gous 6 6 219 43.80 151.03 20 11   7 Jos Buttler 8 7 214 42.80 158.52 22 10   8 Quinton de Kock 8 8 204 25.50 143.66 17 12   9 Suryakumar Yadav 7 7 196 32.67 137.06 15 10   10 Philip Salt 8 7 188 37.60 159.32 16 10   11 David Warner 7 7 178 29.67 139.06 17 9   12 Rishabh Pant 7 7 171 28.50 129.55 19 6   13 Marcus Stoinis 7 5 169 42.25 164.08 14 10   14 Aaron Jones 6 6 162 40.50 135.00 8 14   15 Towhid Hridoy 7 7 153 21.86 128.57 9 8        We use cookies to improve your experience on our site and to show you non-personalized ads. Find out more in our privacy policy and cookie policyOKMOBILE SITE & APPSm.cricbuzz.comAndroidiOSFOLLOW US ONfacebooktwitteryoutubePinterestCOMPANYCareersAdvertisePrivacy PolicyTerms of UseCricbuzz TV AdsPrivacy Preferences© 2024 Cricbuzz.com, Times Internet Limited. All rights reserved | The Times of India | Navbharat TimesMove to top \n",
      "Human: Which indian players are there in highest run scorers\u001b[0m\n",
      "\n",
      "\u001b[1m> Finished chain.\u001b[0m\n",
      "\n",
      "\u001b[1m> Finished chain.\u001b[0m\n"
     ]
    },
    {
     "data": {
      "text/plain": [
       "'According to the ICC Mens T20 World Cup 2024 statistics on Cricbuzz.com, the Indian players in the highest run scorers list are:\\n\\n1. Rohit Sharma - 248 runs (avg: 41.33, SR: 155.97)\\n2. Suryakumar Yadav - 196 runs (avg: 32.67, SR: 137.06)\\n3. Rishabh Pant - 171 runs (avg: 28.50, SR: 129.55)\\n\\nThese players are among the top 15 highest run scorers in the tournament.'"
      ]
     },
     "execution_count": 20,
     "metadata": {},
     "output_type": "execute_result"
    }
   ],
   "source": [
    "chain.run(input_documents =loader, question = query)"
   ]
  },
  {
   "cell_type": "markdown",
   "metadata": {},
   "source": [
    "Since I gave the 2024 stats data to it, it gave good search and responded well. But not did any complicated things just loaded a url from cricbuzz and queried it."
   ]
  }
 ],
 "metadata": {
  "kernelspec": {
   "display_name": "Python 3",
   "language": "python",
   "name": "python3"
  },
  "language_info": {
   "codemirror_mode": {
    "name": "ipython",
    "version": 3
   },
   "file_extension": ".py",
   "mimetype": "text/x-python",
   "name": "python",
   "nbconvert_exporter": "python",
   "pygments_lexer": "ipython3",
   "version": "3.9.6"
  }
 },
 "nbformat": 4,
 "nbformat_minor": 2
}
